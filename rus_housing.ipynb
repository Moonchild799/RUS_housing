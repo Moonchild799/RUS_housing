{
 "cells": [
  {
   "cell_type": "markdown",
   "id": "e4e9249d",
   "metadata": {},
   "source": [
    "# Вступление\n",
    "\n",
    "В проекте нам нужно обучить модель линейной регрессии на данных о жилье в Калифорнии в 1990 году. На основе данных нужно предсказать медианную стоимость дома в жилом массиве. Обучить модель и сделать предсказания на тестовой выборке. Для оценки качества модели нужно использовать метрики RMSE, MAE и R2.\n",
    "\n",
    "Нам предоставлен датасет содержащий данные о жилой недвижимости в Калифорнии за 1990г. Используя Spark DataFrame API прочитаем данные, поищем пропущенные значения, обработаем их и построим несколько моделей машинного обучения. Тестовую выборку сделаем из имеющегося датасета. Для оценки качества моделей будем использовать следующие метрики: RMSE, R2, MAE."
   ]
  },
  {
   "cell_type": "markdown",
   "id": "53871372",
   "metadata": {
    "id": "53871372"
   },
   "source": [
    "### Подготовка данных"
   ]
  },
  {
   "cell_type": "markdown",
   "id": "3471328d",
   "metadata": {},
   "source": [
    "**Импортирование необходимых библиотек**"
   ]
  },
  {
   "cell_type": "code",
   "execution_count": 1,
   "id": "65117158",
   "metadata": {},
   "outputs": [],
   "source": [
    "import pandas as pd \n",
    "import numpy as np\n",
    "import pyspark\n",
    "import pyspark.sql.functions as F\n",
    "\n",
    "from pyspark.ml import Pipeline\n",
    "from pyspark.ml.feature import StringIndexer, VectorAssembler, StandardScaler\n",
    "from pyspark.ml.regression import LinearRegression, LinearRegressionSummary\n",
    "from pyspark.ml.evaluation import RegressionEvaluator\n",
    "\n",
    "from pyspark.sql import SparkSession\n",
    "from pyspark.sql.types import *\n",
    "\n",
    "pyspark_version = pyspark.__version__\n",
    "if int(pyspark_version[:1]) == 3:\n",
    "    from pyspark.ml.feature import OneHotEncoder    \n",
    "elif int(pyspark_version[:1]) == 2:\n",
    "    from pyspark.ml.feature import OneHotEncodeEstimator"
   ]
  },
  {
   "cell_type": "markdown",
   "id": "238cc565",
   "metadata": {},
   "source": [
    "**Инициализация Spark сессии**\n",
    "\n",
    "Инициализируем Spark сессию в локальном режиме для входа в Spark приложение."
   ]
  },
  {
   "cell_type": "code",
   "execution_count": 2,
   "id": "df92e3ec",
   "metadata": {
    "id": "df92e3ec"
   },
   "outputs": [],
   "source": [
    "spark = SparkSession.builder \\\n",
    "                    .master(\"local\") \\\n",
    "                    .appName(\"California Housing\") \\\n",
    "                    .getOrCreate()"
   ]
  },
  {
   "cell_type": "markdown",
   "id": "4fdf36d7",
   "metadata": {},
   "source": [
    "**Чтение исходного файла**\n",
    "\n",
    "Теперь когда сессия запущена, прочитаем файл и запием его в переменную df_housing."
   ]
  },
  {
   "cell_type": "code",
   "execution_count": 3,
   "id": "67b3ef8f",
   "metadata": {},
   "outputs": [
    {
     "name": "stderr",
     "output_type": "stream",
     "text": [
      "                                                                                \r"
     ]
    }
   ],
   "source": [
    "df_housing = spark.read.load('/datasets/housing.csv', format=\"csv\", sep=\",\", inferSchema=True, header=\"true\")"
   ]
  },
  {
   "cell_type": "markdown",
   "id": "42831008",
   "metadata": {},
   "source": [
    "**Основная информация**\n",
    "\n",
    "Посмотрим какие колонки находятся в датасете и их типы."
   ]
  },
  {
   "cell_type": "code",
   "execution_count": 4,
   "id": "37ba0f37",
   "metadata": {},
   "outputs": [
    {
     "name": "stdout",
     "output_type": "stream",
     "text": [
      "root\n",
      " |-- longitude: double (nullable = true)\n",
      " |-- latitude: double (nullable = true)\n",
      " |-- housing_median_age: double (nullable = true)\n",
      " |-- total_rooms: double (nullable = true)\n",
      " |-- total_bedrooms: double (nullable = true)\n",
      " |-- population: double (nullable = true)\n",
      " |-- households: double (nullable = true)\n",
      " |-- median_income: double (nullable = true)\n",
      " |-- median_house_value: double (nullable = true)\n",
      " |-- ocean_proximity: string (nullable = true)\n",
      "\n",
      "+---------+--------+------------------+-----------+--------------+----------+----------+-------------+------------------+---------------+\n",
      "|longitude|latitude|housing_median_age|total_rooms|total_bedrooms|population|households|median_income|median_house_value|ocean_proximity|\n",
      "+---------+--------+------------------+-----------+--------------+----------+----------+-------------+------------------+---------------+\n",
      "|  -122.23|   37.88|              41.0|      880.0|         129.0|     322.0|     126.0|       8.3252|          452600.0|       NEAR BAY|\n",
      "|  -122.22|   37.86|              21.0|     7099.0|        1106.0|    2401.0|    1138.0|       8.3014|          358500.0|       NEAR BAY|\n",
      "|  -122.24|   37.85|              52.0|     1467.0|         190.0|     496.0|     177.0|       7.2574|          352100.0|       NEAR BAY|\n",
      "|  -122.25|   37.85|              52.0|     1274.0|         235.0|     558.0|     219.0|       5.6431|          341300.0|       NEAR BAY|\n",
      "|  -122.25|   37.85|              52.0|     1627.0|         280.0|     565.0|     259.0|       3.8462|          342200.0|       NEAR BAY|\n",
      "|  -122.25|   37.85|              52.0|      919.0|         213.0|     413.0|     193.0|       4.0368|          269700.0|       NEAR BAY|\n",
      "|  -122.25|   37.84|              52.0|     2535.0|         489.0|    1094.0|     514.0|       3.6591|          299200.0|       NEAR BAY|\n",
      "|  -122.25|   37.84|              52.0|     3104.0|         687.0|    1157.0|     647.0|         3.12|          241400.0|       NEAR BAY|\n",
      "|  -122.26|   37.84|              42.0|     2555.0|         665.0|    1206.0|     595.0|       2.0804|          226700.0|       NEAR BAY|\n",
      "|  -122.25|   37.84|              52.0|     3549.0|         707.0|    1551.0|     714.0|       3.6912|          261100.0|       NEAR BAY|\n",
      "|  -122.26|   37.85|              52.0|     2202.0|         434.0|     910.0|     402.0|       3.2031|          281500.0|       NEAR BAY|\n",
      "|  -122.26|   37.85|              52.0|     3503.0|         752.0|    1504.0|     734.0|       3.2705|          241800.0|       NEAR BAY|\n",
      "|  -122.26|   37.85|              52.0|     2491.0|         474.0|    1098.0|     468.0|        3.075|          213500.0|       NEAR BAY|\n",
      "|  -122.26|   37.84|              52.0|      696.0|         191.0|     345.0|     174.0|       2.6736|          191300.0|       NEAR BAY|\n",
      "|  -122.26|   37.85|              52.0|     2643.0|         626.0|    1212.0|     620.0|       1.9167|          159200.0|       NEAR BAY|\n",
      "|  -122.26|   37.85|              50.0|     1120.0|         283.0|     697.0|     264.0|        2.125|          140000.0|       NEAR BAY|\n",
      "|  -122.27|   37.85|              52.0|     1966.0|         347.0|     793.0|     331.0|        2.775|          152500.0|       NEAR BAY|\n",
      "|  -122.27|   37.85|              52.0|     1228.0|         293.0|     648.0|     303.0|       2.1202|          155500.0|       NEAR BAY|\n",
      "|  -122.26|   37.84|              50.0|     2239.0|         455.0|     990.0|     419.0|       1.9911|          158700.0|       NEAR BAY|\n",
      "|  -122.27|   37.84|              52.0|     1503.0|         298.0|     690.0|     275.0|       2.6033|          162900.0|       NEAR BAY|\n",
      "+---------+--------+------------------+-----------+--------------+----------+----------+-------------+------------------+---------------+\n",
      "only showing top 20 rows\n",
      "\n"
     ]
    }
   ],
   "source": [
    "df_housing.printSchema()\n",
    "df_housing.show()"
   ]
  },
  {
   "cell_type": "markdown",
   "id": "e841c0ce",
   "metadata": {},
   "source": [
    "Видим что есть только одна колонка со строковыми значениями, остальные с численными.\n",
    "\n",
    "Выведем основую информацию по численным колонкам."
   ]
  },
  {
   "cell_type": "code",
   "execution_count": 5,
   "id": "93422fea",
   "metadata": {},
   "outputs": [
    {
     "name": "stderr",
     "output_type": "stream",
     "text": [
      "                                                                                \r"
     ]
    },
    {
     "name": "stdout",
     "output_type": "stream",
     "text": [
      "+-------+-------------------+-----------------+------------------+------------------+------------------+------------------+-----------------+------------------+------------------+---------------+\n",
      "|summary|          longitude|         latitude|housing_median_age|       total_rooms|    total_bedrooms|        population|       households|     median_income|median_house_value|ocean_proximity|\n",
      "+-------+-------------------+-----------------+------------------+------------------+------------------+------------------+-----------------+------------------+------------------+---------------+\n",
      "|  count|              20640|            20640|             20640|             20640|             20433|             20640|            20640|             20640|             20640|          20640|\n",
      "|   mean|-119.56970445736148| 35.6318614341087|28.639486434108527|2635.7630813953488| 537.8705525375618|1425.4767441860465|499.5396802325581|3.8706710029070246|206855.81690891474|           null|\n",
      "| stddev|  2.003531723502584|2.135952397457101| 12.58555761211163|2181.6152515827944|421.38507007403115|  1132.46212176534|382.3297528316098| 1.899821717945263|115395.61587441359|           null|\n",
      "|    min|            -124.35|            32.54|               1.0|               2.0|               1.0|               3.0|              1.0|            0.4999|           14999.0|      <1H OCEAN|\n",
      "|    25%|             -121.8|            33.93|              18.0|            1447.0|             296.0|             787.0|            280.0|            2.5625|          119600.0|           null|\n",
      "|    50%|            -118.49|            34.26|              29.0|            2127.0|             435.0|            1166.0|            409.0|            3.5347|          179700.0|           null|\n",
      "|    75%|            -118.01|            37.71|              37.0|            3146.0|             647.0|            1724.0|            605.0|            4.7426|          264700.0|           null|\n",
      "|    max|            -114.31|            41.95|              52.0|           39320.0|            6445.0|           35682.0|           6082.0|           15.0001|          500001.0|     NEAR OCEAN|\n",
      "+-------+-------------------+-----------------+------------------+------------------+------------------+------------------+-----------------+------------------+------------------+---------------+\n",
      "\n"
     ]
    }
   ],
   "source": [
    "df_housing.summary().show()"
   ]
  },
  {
   "cell_type": "markdown",
   "id": "d5a74ecc",
   "metadata": {},
   "source": [
    "**Пропуски**\n",
    "\n",
    "Проверим есть ли в данных пропуски."
   ]
  },
  {
   "cell_type": "code",
   "execution_count": 6,
   "id": "2bb9e323",
   "metadata": {},
   "outputs": [
    {
     "name": "stdout",
     "output_type": "stream",
     "text": [
      "+---------+--------+------------------+-----------+--------------+----------+----------+-------------+------------------+---------------+\n",
      "|longitude|latitude|housing_median_age|total_rooms|total_bedrooms|population|households|median_income|median_house_value|ocean_proximity|\n",
      "+---------+--------+------------------+-----------+--------------+----------+----------+-------------+------------------+---------------+\n",
      "|        0|       0|                 0|          0|           207|         0|         0|            0|                 0|              0|\n",
      "+---------+--------+------------------+-----------+--------------+----------+----------+-------------+------------------+---------------+\n",
      "\n"
     ]
    }
   ],
   "source": [
    "df_housing.select(* \\\n",
    "                  (F.sum(F.col(c).isNull().cast(\"int\")).alias(c) \\\n",
    "                   for c in df_housing.columns)) \\\n",
    "                 .show()"
   ]
  },
  {
   "cell_type": "markdown",
   "id": "ed33bc2d",
   "metadata": {},
   "source": [
    "Нашли пропуски в одной колонке `total_bedrooms`, 207 пропусков. Можем заполнить их средним значенем."
   ]
  },
  {
   "cell_type": "code",
   "execution_count": 7,
   "id": "e0f11696",
   "metadata": {},
   "outputs": [
    {
     "data": {
      "text/plain": [
       "435"
      ]
     },
     "execution_count": 7,
     "metadata": {},
     "output_type": "execute_result"
    }
   ],
   "source": [
    "median_bedrooms = int(df_housing.approxQuantile('total_bedrooms', [0.5], 0)[0])\n",
    "median_bedrooms"
   ]
  },
  {
   "cell_type": "markdown",
   "id": "0a55b09c",
   "metadata": {},
   "source": [
    "Выделили среднее значение колонки `total_bedrooms` в отдельную переменную."
   ]
  },
  {
   "cell_type": "code",
   "execution_count": 9,
   "id": "ef636c80",
   "metadata": {},
   "outputs": [],
   "source": [
    "df_housing = df_housing.na.fill(median_bedrooms, ['total_bedrooms'])"
   ]
  },
  {
   "cell_type": "code",
   "execution_count": 10,
   "id": "543a3e3e",
   "metadata": {},
   "outputs": [
    {
     "name": "stdout",
     "output_type": "stream",
     "text": [
      "+---------+--------+------------------+-----------+--------------+----------+----------+-------------+------------------+---------------+\n",
      "|longitude|latitude|housing_median_age|total_rooms|total_bedrooms|population|households|median_income|median_house_value|ocean_proximity|\n",
      "+---------+--------+------------------+-----------+--------------+----------+----------+-------------+------------------+---------------+\n",
      "|        0|       0|                 0|          0|             0|         0|         0|            0|                 0|              0|\n",
      "+---------+--------+------------------+-----------+--------------+----------+----------+-------------+------------------+---------------+\n",
      "\n"
     ]
    }
   ],
   "source": [
    "df_housing.select(* \\\n",
    "                  (F.sum(F.col(c).isNull().cast(\"int\")).alias(c) \\\n",
    "                   for c in df_housing.columns)) \\\n",
    "                 .show()"
   ]
  },
  {
   "cell_type": "markdown",
   "id": "4f8167e2",
   "metadata": {},
   "source": [
    "Заполнили пропуски и проверили их отсутствие после этого. Пропусков нет."
   ]
  },
  {
   "cell_type": "markdown",
   "id": "89f1e36f",
   "metadata": {},
   "source": [
    "**Выделение признаков**\n",
    "\n",
    "Перед тем как создавать модели нам нужно подготовить данные, определить целевой признак и признаки для обучения. Разобьём все колонки на три типа:\n",
    "\n",
    "- Целевой признак: колонка `median_house_value`.\n",
    "- Категориальные признаки: только одна колонка `ocean_proximity`.\n",
    "- Численные признаки: все остальные колонки.\n",
    "\n",
    "\n",
    "Создадим три переменные в которые и положим колонки в соответсвии с их типом."
   ]
  },
  {
   "cell_type": "code",
   "execution_count": 11,
   "id": "b8851f2f",
   "metadata": {},
   "outputs": [],
   "source": [
    "categorical_cols = ['ocean_proximity']\n",
    "numerical_cols  = [\"longitude\", \"latitude\", \"housing_median_age\", \"total_rooms\", \"total_bedrooms\",\n",
    "                   \"population\", \"households\", \"median_income\",]\n",
    "target = \"median_house_value\" "
   ]
  },
  {
   "cell_type": "markdown",
   "id": "469b4264",
   "metadata": {},
   "source": [
    "Разделим датасет на две выборки:\n",
    "\n",
    "- Тренировачная, нужная для обучения модели.\n",
    "- Тестовая, для проверки модели.\n",
    "\n",
    "Разбитие будем производить в соотношении 80%/20% (Тренировочная/Тестовая)."
   ]
  },
  {
   "cell_type": "code",
   "execution_count": 12,
   "id": "fdefd707",
   "metadata": {},
   "outputs": [],
   "source": [
    "RANDOM_SEED = 1234"
   ]
  },
  {
   "cell_type": "code",
   "execution_count": 13,
   "id": "572a244d",
   "metadata": {},
   "outputs": [
    {
     "name": "stderr",
     "output_type": "stream",
     "text": [
      "                                                                                \r"
     ]
    },
    {
     "name": "stdout",
     "output_type": "stream",
     "text": [
      "16525 4115\n"
     ]
    }
   ],
   "source": [
    "train_data, test_data = df_housing.randomSplit([.8,.2], seed=RANDOM_SEED)\n",
    "print(train_data.count(), test_data.count())"
   ]
  },
  {
   "cell_type": "markdown",
   "id": "9e250cc6",
   "metadata": {},
   "source": [
    "Будем использовать Pipeline. Преобразуем категориальные признаки техникой OHE, а для численных сделаем масштабирование с помощью StandartScaler. Всё это пропишем с план действия для pipeline."
   ]
  },
  {
   "cell_type": "code",
   "execution_count": 14,
   "id": "88c0eb88",
   "metadata": {},
   "outputs": [],
   "source": [
    "stages = []\n",
    "\n",
    "categoricalColumns = categorical_cols\n",
    "for categoricalCol in categoricalColumns:\n",
    "\n",
    "    stringIndexer = StringIndexer(inputCol = categoricalCol,\n",
    "                                  outputCol = categoricalCol + 'Index',\n",
    "                                  handleInvalid = 'keep')\n",
    "    encoder = OneHotEncoder(inputCol=stringIndexer.getOutputCol(),\n",
    "                            outputCol=categoricalCol + \"classVec\")\n",
    "    stages += [stringIndexer, encoder]\n",
    "\n",
    "numerical_assembler = VectorAssembler(inputCols=numerical_cols,\n",
    "                                      outputCol=\"numerical_features\")\n",
    "standardScaler = StandardScaler(inputCol='numerical_features',\n",
    "                                outputCol=\"numerical_features_scaled\")\n",
    "\n",
    "stages += [numerical_assembler, standardScaler]    \n",
    "\n",
    "numericCols = ['numerical_features_scaled']\n",
    "assemblerInputs = [c + \"classVec\" for c in categoricalColumns] + numericCols\n",
    "\n",
    "assembler = VectorAssembler(inputCols=assemblerInputs, outputCol=\"features\")\n",
    "stages += [assembler]"
   ]
  },
  {
   "cell_type": "markdown",
   "id": "b7db920c",
   "metadata": {},
   "source": [
    "Так как мы хотим построить ещё и модель обученную тольно на численных признаках, создадим ещё один план действия pipeline."
   ]
  },
  {
   "cell_type": "code",
   "execution_count": 15,
   "id": "61f3abf8",
   "metadata": {},
   "outputs": [],
   "source": [
    "stages_num = []\n",
    "\n",
    "numerical_assembler = VectorAssembler(inputCols=numerical_cols,\n",
    "                                      outputCol=\"numerical_features\")\n",
    "standardScaler = StandardScaler(inputCol='numerical_features',\n",
    "                                outputCol=\"numerical_features_scaled\")\n",
    "\n",
    "stages_num += [numerical_assembler, standardScaler]    "
   ]
  },
  {
   "cell_type": "markdown",
   "id": "1f5fb44f",
   "metadata": {},
   "source": [
    "Теперь у нас есть все необходимые данные для обучения и проверки модели."
   ]
  },
  {
   "cell_type": "markdown",
   "id": "9f0a82f3",
   "metadata": {
    "id": "9f0a82f3"
   },
   "source": [
    "### Обучение моделей\n",
    "\n",
    "Построим две модели линейной регрессии. В одной для обучения будем использовать все признаки, в другой только численные."
   ]
  },
  {
   "cell_type": "code",
   "execution_count": 16,
   "id": "daf8503f",
   "metadata": {},
   "outputs": [],
   "source": [
    "lr_all = LinearRegression(labelCol=target, featuresCol='features', maxIter=1000, regParam=0.3, elasticNetParam=0.8)\n",
    "\n",
    "stages += [lr_all]"
   ]
  },
  {
   "cell_type": "code",
   "execution_count": 17,
   "id": "6e1cf083",
   "metadata": {},
   "outputs": [],
   "source": [
    "lr_num = LinearRegression(labelCol=target, featuresCol='numerical_features_scaled', maxIter=1000, regParam=0.3, elasticNetParam=0.8)\n",
    "\n",
    "stages_num += [lr_num]"
   ]
  },
  {
   "cell_type": "code",
   "execution_count": 18,
   "id": "e8f6ebb4",
   "metadata": {},
   "outputs": [],
   "source": [
    "pipeline_all = Pipeline(stages=stages)\n",
    "pipeline_num = Pipeline(stages=stages_num)"
   ]
  },
  {
   "cell_type": "markdown",
   "id": "8497d479",
   "metadata": {},
   "source": [
    "Пайплайны готовы, можем отправлять им тренировочные данные."
   ]
  },
  {
   "cell_type": "code",
   "execution_count": 19,
   "id": "353f33d4",
   "metadata": {},
   "outputs": [
    {
     "name": "stderr",
     "output_type": "stream",
     "text": [
      "23/02/22 14:02:39 WARN BLAS: Failed to load implementation from: com.github.fommil.netlib.NativeSystemBLAS\n",
      "23/02/22 14:02:39 WARN BLAS: Failed to load implementation from: com.github.fommil.netlib.NativeRefBLAS\n",
      "                                                                                \r"
     ]
    }
   ],
   "source": [
    "model_all = pipeline_all.fit(train_data)\n",
    "model_num = pipeline_num.fit(train_data)"
   ]
  },
  {
   "cell_type": "markdown",
   "id": "d378c2ac",
   "metadata": {},
   "source": [
    "Модели обучены, теперь сделаем предсказания."
   ]
  },
  {
   "cell_type": "code",
   "execution_count": 20,
   "id": "38cb2e4c",
   "metadata": {},
   "outputs": [],
   "source": [
    "predictions_all = model_all.transform(test_data)\n",
    "predictions_num = model_num.transform(test_data)"
   ]
  },
  {
   "cell_type": "code",
   "execution_count": 21,
   "id": "ab8d96db",
   "metadata": {},
   "outputs": [
    {
     "name": "stdout",
     "output_type": "stream",
     "text": [
      "+------------------+------------------+\n",
      "|median_house_value|        prediction|\n",
      "+------------------+------------------+\n",
      "|           85800.0|116678.53068166226|\n",
      "|          111400.0| 191475.7288470976|\n",
      "|           70500.0| 144584.9568145182|\n",
      "|          128900.0| 208334.3518197541|\n",
      "|          116100.0| 235026.5104953777|\n",
      "|           82800.0|172973.75397757487|\n",
      "|           81300.0|152439.22813346703|\n",
      "|           85600.0|189040.63798059896|\n",
      "|           80500.0|180690.00186081696|\n",
      "|           75500.0|139192.64227761608|\n",
      "|           90000.0|209654.53985772282|\n",
      "|           67500.0|147605.67249723244|\n",
      "|           57500.0|141044.24547791667|\n",
      "|          103100.0| 47803.07622436015|\n",
      "|          128100.0|222018.93631890416|\n",
      "|           99600.0|187131.60005696164|\n",
      "|          122400.0|128764.82224631542|\n",
      "|           94800.0|219672.69692408107|\n",
      "|           92800.0| 208703.4660310666|\n",
      "|           72300.0|155120.83782315627|\n",
      "+------------------+------------------+\n",
      "only showing top 20 rows\n",
      "\n"
     ]
    }
   ],
   "source": [
    "predictedLabes = predictions_all.select(\"median_house_value\", \"prediction\")\n",
    "predictedLabes.show()"
   ]
  },
  {
   "cell_type": "code",
   "execution_count": 22,
   "id": "d7f6c394",
   "metadata": {},
   "outputs": [
    {
     "name": "stdout",
     "output_type": "stream",
     "text": [
      "+------------------+------------------+\n",
      "|median_house_value|        prediction|\n",
      "+------------------+------------------+\n",
      "|           85800.0| 65460.03770375531|\n",
      "|          111400.0| 164139.8048401568|\n",
      "|           70500.0|110604.48890756443|\n",
      "|          128900.0|174701.44169566687|\n",
      "|          116100.0|201364.00518673938|\n",
      "|           82800.0|139320.25653447816|\n",
      "|           81300.0|118247.25597418752|\n",
      "|           85600.0| 156074.8918116265|\n",
      "|           80500.0|149105.69694786659|\n",
      "|           75500.0| 100246.7957484019|\n",
      "|           90000.0|176447.10333629092|\n",
      "|           67500.0|113829.32170521747|\n",
      "|           57500.0|105136.01540501928|\n",
      "|          103100.0|-7608.166964618489|\n",
      "|          128100.0|191669.65294918325|\n",
      "|           99600.0|153121.25924076186|\n",
      "|          122400.0| 72969.22992756078|\n",
      "|           94800.0| 199094.3622708586|\n",
      "|           92800.0|174763.94455447793|\n",
      "|           72300.0|130161.65584604396|\n",
      "+------------------+------------------+\n",
      "only showing top 20 rows\n",
      "\n"
     ]
    }
   ],
   "source": [
    "predictedLabes = predictions_num.select(\"median_house_value\", \"prediction\")\n",
    "predictedLabes.show()"
   ]
  },
  {
   "cell_type": "markdown",
   "id": "caa21348",
   "metadata": {},
   "source": [
    "Предсказания сделаны, посмотрим на результаты метрик."
   ]
  },
  {
   "cell_type": "code",
   "execution_count": 23,
   "id": "31cd2800",
   "metadata": {},
   "outputs": [
    {
     "name": "stdout",
     "output_type": "stream",
     "text": [
      "R Squared (R2) on test data (all) = 0.654292\n",
      "R Squared (R2) on test data (numerical) = 0.64585\n",
      "RMSE on test data (all) = 67360\n",
      "RMSE on test data (numerical) = 68177.5\n",
      "MAE on test data (all) = 49218.9\n",
      "MAE on test data (numerical) = 50399.2\n"
     ]
    }
   ],
   "source": [
    "evaluator_r2 = RegressionEvaluator(predictionCol=\"prediction\", \\\n",
    "                 labelCol=\"median_house_value\", metricName=\"r2\")\n",
    "evaluator_rmse = RegressionEvaluator(predictionCol=\"prediction\", \\\n",
    "                 labelCol=\"median_house_value\", metricName=\"rmse\")\n",
    "evaluator_mae = RegressionEvaluator(predictionCol=\"prediction\", \\\n",
    "                 labelCol=\"median_house_value\", metricName=\"mae\")\n",
    "\n",
    "print(\"R Squared (R2) on test data (all) = %g\" % evaluator_r2.evaluate(predictions_all))\n",
    "print(\"R Squared (R2) on test data (numerical) = %g\" % evaluator_r2.evaluate(predictions_num))\n",
    "print(\"RMSE on test data (all) = %g\" % evaluator_rmse.evaluate(predictions_all))\n",
    "print(\"RMSE on test data (numerical) = %g\" % evaluator_rmse.evaluate(predictions_num))\n",
    "print(\"MAE on test data (all) = %g\" % evaluator_mae.evaluate(predictions_all))\n",
    "print(\"MAE on test data (numerical) = %g\" % evaluator_mae.evaluate(predictions_num))"
   ]
  },
  {
   "cell_type": "markdown",
   "id": "282ed0c2",
   "metadata": {},
   "source": [
    "Обе модели показали примерно одинаковые результаты. R2 - 0.654 и 0.646, модель обученная на всех признаках показала немного лучший результат, но незначительно. Тоже самое можно увидель по метрикам RSME и MAE."
   ]
  },
  {
   "cell_type": "raw",
   "id": "979827da",
   "metadata": {},
   "source": [
    "spark.stop()"
   ]
  },
  {
   "cell_type": "markdown",
   "id": "757fd103",
   "metadata": {
    "id": "757fd103"
   },
   "source": [
    "# Анализ результатов\n",
    "\n",
    "Перед нами стояла задача построить две модели линейной регресии используя Spark DataFrame API. Изучили предоставленные данные, проверили их на пропуски. В данных нашли пропуски, обработали их.\n",
    "\n",
    "Определили целевой признак, а так-же признаки для обучения моделей. Признаки разбили на два типа: категориальные и численные. Категориальные трансформировали техникой прямого кодирования (OHE). Для численных сделали масштабирования для уравнивания их веса.\n",
    "\n",
    "Разбили датасет на две выборки: тренировочную и тестовую в соотношении 80%/20% соответсвенно.\n",
    "\n",
    "Построили две модели, для одной использовали в процессе обучения все признаки, для другой только численные. Протестировали их на тестовой выборке. Модель обученная на всех признаках показала немного лучшие результаты. В целом обе модели показали довольно посредственные результаты. Лучшие на тестовой: **R2: 0.654**, **RMSE: 67360**, **MAE: 49218**"
   ]
  }
 ],
 "metadata": {
  "ExecuteTimeLog": [
   {
    "duration": 19440,
    "start_time": "2023-02-16T11:25:29.889Z"
   },
   {
    "duration": 9007,
    "start_time": "2023-02-16T11:27:21.834Z"
   },
   {
    "duration": 1279,
    "start_time": "2023-02-16T11:31:36.964Z"
   },
   {
    "duration": 678,
    "start_time": "2023-02-16T11:47:47.342Z"
   },
   {
    "duration": 845,
    "start_time": "2023-02-16T15:09:38.063Z"
   },
   {
    "duration": 181,
    "start_time": "2023-02-16T15:10:02.941Z"
   },
   {
    "duration": 25,
    "start_time": "2023-02-16T15:11:31.612Z"
   },
   {
    "duration": 16,
    "start_time": "2023-02-16T15:11:54.788Z"
   },
   {
    "duration": 5345,
    "start_time": "2023-02-16T15:11:57.058Z"
   },
   {
    "duration": 1255,
    "start_time": "2023-02-16T15:13:01.665Z"
   },
   {
    "duration": 595,
    "start_time": "2023-02-16T15:16:43.672Z"
   },
   {
    "duration": 449,
    "start_time": "2023-02-16T15:16:53.240Z"
   },
   {
    "duration": 392,
    "start_time": "2023-02-16T15:17:13.512Z"
   },
   {
    "duration": 782,
    "start_time": "2023-02-16T15:17:55.086Z"
   },
   {
    "duration": 406,
    "start_time": "2023-02-16T15:17:59.160Z"
   },
   {
    "duration": 358,
    "start_time": "2023-02-16T15:18:21.506Z"
   },
   {
    "duration": 10,
    "start_time": "2023-02-16T15:18:44.461Z"
   },
   {
    "duration": 8,
    "start_time": "2023-02-16T15:18:50.772Z"
   },
   {
    "duration": 1471,
    "start_time": "2023-02-16T15:19:25.461Z"
   },
   {
    "duration": 3794,
    "start_time": "2023-02-16T15:19:44.772Z"
   },
   {
    "duration": 2972,
    "start_time": "2023-02-16T15:19:55.140Z"
   },
   {
    "duration": 2470,
    "start_time": "2023-02-16T15:20:13.837Z"
   },
   {
    "duration": 2167,
    "start_time": "2023-02-16T15:20:22.753Z"
   },
   {
    "duration": 2001,
    "start_time": "2023-02-16T15:20:29.277Z"
   },
   {
    "duration": 2003,
    "start_time": "2023-02-16T15:20:32.920Z"
   },
   {
    "duration": 930,
    "start_time": "2023-02-16T15:21:35.797Z"
   },
   {
    "duration": 85,
    "start_time": "2023-02-16T15:23:42.489Z"
   },
   {
    "duration": 86,
    "start_time": "2023-02-16T15:23:57.165Z"
   },
   {
    "duration": 899,
    "start_time": "2023-02-16T15:23:58.712Z"
   },
   {
    "duration": 2231,
    "start_time": "2023-02-16T15:24:03.944Z"
   },
   {
    "duration": 850,
    "start_time": "2023-02-16T15:24:16.461Z"
   },
   {
    "duration": 11,
    "start_time": "2023-02-16T15:24:21.877Z"
   },
   {
    "duration": 1792,
    "start_time": "2023-02-16T15:24:25.148Z"
   },
   {
    "duration": 11,
    "start_time": "2023-02-16T15:24:36.996Z"
   },
   {
    "duration": 1704,
    "start_time": "2023-02-16T15:24:47.775Z"
   },
   {
    "duration": 1860,
    "start_time": "2023-02-16T15:25:07.809Z"
   },
   {
    "duration": 13,
    "start_time": "2023-02-16T15:26:42.836Z"
   },
   {
    "duration": 882,
    "start_time": "2023-02-16T16:38:00.636Z"
   },
   {
    "duration": 2513,
    "start_time": "2023-02-16T16:38:08.916Z"
   },
   {
    "duration": 1907,
    "start_time": "2023-02-16T16:38:27.488Z"
   },
   {
    "duration": 1691,
    "start_time": "2023-02-16T16:38:32.032Z"
   },
   {
    "duration": 1681,
    "start_time": "2023-02-16T16:38:38.845Z"
   },
   {
    "duration": 1789,
    "start_time": "2023-02-16T16:39:18.218Z"
   },
   {
    "duration": 1524,
    "start_time": "2023-02-16T16:39:50.480Z"
   },
   {
    "duration": 1977,
    "start_time": "2023-02-16T16:40:15.993Z"
   },
   {
    "duration": 1405,
    "start_time": "2023-02-16T16:40:29.016Z"
   },
   {
    "duration": 17,
    "start_time": "2023-02-16T16:42:17.637Z"
   },
   {
    "duration": 494,
    "start_time": "2023-02-16T16:42:36.220Z"
   },
   {
    "duration": 467,
    "start_time": "2023-02-16T16:43:01.800Z"
   },
   {
    "duration": 2356,
    "start_time": "2023-02-16T16:43:20.452Z"
   },
   {
    "duration": 2295,
    "start_time": "2023-02-16T16:43:41.624Z"
   },
   {
    "duration": 1298,
    "start_time": "2023-02-16T16:44:12.360Z"
   },
   {
    "duration": 129,
    "start_time": "2023-02-16T16:46:15.804Z"
   },
   {
    "duration": 8,
    "start_time": "2023-02-16T16:46:25.478Z"
   },
   {
    "duration": 7,
    "start_time": "2023-02-16T16:46:34.123Z"
   },
   {
    "duration": 11,
    "start_time": "2023-02-16T16:46:37.213Z"
   },
   {
    "duration": 1529,
    "start_time": "2023-02-16T16:47:30.980Z"
   },
   {
    "duration": 124,
    "start_time": "2023-02-16T16:47:47.493Z"
   },
   {
    "duration": 1645,
    "start_time": "2023-02-16T16:47:52.186Z"
   },
   {
    "duration": 115,
    "start_time": "2023-02-16T16:48:03.749Z"
   },
   {
    "duration": 150,
    "start_time": "2023-02-16T16:48:08.369Z"
   },
   {
    "duration": 18,
    "start_time": "2023-02-16T16:48:21.052Z"
   },
   {
    "duration": 19,
    "start_time": "2023-02-16T16:48:28.590Z"
   },
   {
    "duration": 384,
    "start_time": "2023-02-17T12:04:54.125Z"
   },
   {
    "duration": 15678,
    "start_time": "2023-02-17T12:05:00.807Z"
   },
   {
    "duration": 8865,
    "start_time": "2023-02-17T12:05:19.719Z"
   },
   {
    "duration": 787,
    "start_time": "2023-02-17T12:05:32.379Z"
   },
   {
    "duration": 1275,
    "start_time": "2023-02-17T12:06:30.623Z"
   },
   {
    "duration": 778,
    "start_time": "2023-02-17T12:06:49.051Z"
   },
   {
    "duration": 62,
    "start_time": "2023-02-17T12:08:32.327Z"
   },
   {
    "duration": 23,
    "start_time": "2023-02-17T12:08:38.207Z"
   },
   {
    "duration": 911,
    "start_time": "2023-02-17T12:08:46.599Z"
   },
   {
    "duration": 566,
    "start_time": "2023-02-17T12:08:56.355Z"
   },
   {
    "duration": 369,
    "start_time": "2023-02-17T12:09:09.211Z"
   },
   {
    "duration": 434,
    "start_time": "2023-02-17T12:12:28.664Z"
   },
   {
    "duration": 15581,
    "start_time": "2023-02-17T12:12:29.100Z"
   },
   {
    "duration": 9807,
    "start_time": "2023-02-17T12:12:44.683Z"
   },
   {
    "duration": 880,
    "start_time": "2023-02-17T12:12:54.492Z"
   },
   {
    "duration": 1824,
    "start_time": "2023-02-17T12:12:55.376Z"
   },
   {
    "duration": 964,
    "start_time": "2023-02-17T12:13:00.604Z"
   },
   {
    "duration": 71,
    "start_time": "2023-02-17T12:13:31.580Z"
   },
   {
    "duration": 9,
    "start_time": "2023-02-17T12:13:37.207Z"
   },
   {
    "duration": 11,
    "start_time": "2023-02-17T12:13:48.589Z"
   },
   {
    "duration": 6,
    "start_time": "2023-02-17T12:14:31.091Z"
   },
   {
    "duration": 8,
    "start_time": "2023-02-17T12:14:39.556Z"
   },
   {
    "duration": 399,
    "start_time": "2023-02-17T12:16:06.281Z"
   },
   {
    "duration": 648,
    "start_time": "2023-02-17T12:16:14.959Z"
   },
   {
    "duration": 395,
    "start_time": "2023-02-17T12:16:46.281Z"
   },
   {
    "duration": 387,
    "start_time": "2023-02-17T12:17:06.092Z"
   },
   {
    "duration": 311,
    "start_time": "2023-02-17T12:17:11.516Z"
   },
   {
    "duration": 285,
    "start_time": "2023-02-17T12:17:15.344Z"
   },
   {
    "duration": 264,
    "start_time": "2023-02-17T12:17:24.836Z"
   },
   {
    "duration": 1190,
    "start_time": "2023-02-17T12:17:44.713Z"
   },
   {
    "duration": 11,
    "start_time": "2023-02-17T12:23:26.504Z"
   },
   {
    "duration": 356,
    "start_time": "2023-02-17T12:23:35.917Z"
   },
   {
    "duration": 8,
    "start_time": "2023-02-17T12:24:46.309Z"
   },
   {
    "duration": 26,
    "start_time": "2023-02-17T12:24:51.548Z"
   },
   {
    "duration": 1028,
    "start_time": "2023-02-17T12:25:21.568Z"
   },
   {
    "duration": 892,
    "start_time": "2023-02-17T12:26:15.400Z"
   },
   {
    "duration": 549,
    "start_time": "2023-02-17T12:26:21.436Z"
   },
   {
    "duration": 661,
    "start_time": "2023-02-17T12:28:05.428Z"
   },
   {
    "duration": 501,
    "start_time": "2023-02-17T12:29:22.068Z"
   },
   {
    "duration": 8,
    "start_time": "2023-02-17T12:33:37.832Z"
   },
   {
    "duration": 482,
    "start_time": "2023-02-17T12:34:31.589Z"
   },
   {
    "duration": 15,
    "start_time": "2023-02-17T12:35:11.057Z"
   },
   {
    "duration": 12,
    "start_time": "2023-02-17T12:35:37.841Z"
   },
   {
    "duration": 7,
    "start_time": "2023-02-17T12:36:07.513Z"
   },
   {
    "duration": 284,
    "start_time": "2023-02-17T12:36:43.584Z"
   },
   {
    "duration": 333,
    "start_time": "2023-02-17T12:36:51.857Z"
   },
   {
    "duration": 7,
    "start_time": "2023-02-17T12:37:02.145Z"
   },
   {
    "duration": 4,
    "start_time": "2023-02-17T12:37:47.480Z"
   },
   {
    "duration": 425,
    "start_time": "2023-02-17T12:38:31.864Z"
   },
   {
    "duration": 512,
    "start_time": "2023-02-17T12:38:48.688Z"
   },
   {
    "duration": 506,
    "start_time": "2023-02-17T12:39:21.421Z"
   },
   {
    "duration": 210,
    "start_time": "2023-02-17T12:39:47.085Z"
   },
   {
    "duration": 237,
    "start_time": "2023-02-17T12:39:55.060Z"
   },
   {
    "duration": 668,
    "start_time": "2023-02-17T12:39:58.541Z"
   },
   {
    "duration": 255,
    "start_time": "2023-02-17T12:40:09.185Z"
   },
   {
    "duration": 549,
    "start_time": "2023-02-17T12:40:11.924Z"
   },
   {
    "duration": 4,
    "start_time": "2023-02-17T12:40:25.281Z"
   },
   {
    "duration": 7,
    "start_time": "2023-02-17T12:45:58.221Z"
   },
   {
    "duration": 206,
    "start_time": "2023-02-17T12:46:39.005Z"
   },
   {
    "duration": 427,
    "start_time": "2023-02-17T12:46:42.167Z"
   },
   {
    "duration": 221,
    "start_time": "2023-02-17T12:47:24.549Z"
   },
   {
    "duration": 314,
    "start_time": "2023-02-17T12:47:27.701Z"
   },
   {
    "duration": 398,
    "start_time": "2023-02-17T12:47:32.034Z"
   },
   {
    "duration": 392,
    "start_time": "2023-02-17T12:48:02.769Z"
   },
   {
    "duration": 474,
    "start_time": "2023-02-17T12:48:05.298Z"
   },
   {
    "duration": 10,
    "start_time": "2023-02-17T12:48:29.917Z"
   },
   {
    "duration": 539,
    "start_time": "2023-02-17T12:48:31.453Z"
   },
   {
    "duration": 517,
    "start_time": "2023-02-17T12:48:42.294Z"
   },
   {
    "duration": 17759,
    "start_time": "2023-02-17T12:48:42.813Z"
   },
   {
    "duration": 12344,
    "start_time": "2023-02-17T12:49:00.573Z"
   },
   {
    "duration": 985,
    "start_time": "2023-02-17T12:49:12.919Z"
   },
   {
    "duration": 1940,
    "start_time": "2023-02-17T12:49:51.942Z"
   },
   {
    "duration": 1003,
    "start_time": "2023-02-17T12:49:54.266Z"
   },
   {
    "duration": 2669,
    "start_time": "2023-02-17T12:49:57.301Z"
   },
   {
    "duration": 983,
    "start_time": "2023-02-17T12:50:10.908Z"
   },
   {
    "duration": 652,
    "start_time": "2023-02-17T12:50:47.719Z"
   },
   {
    "duration": 102,
    "start_time": "2023-02-17T12:50:50.821Z"
   },
   {
    "duration": 9,
    "start_time": "2023-02-17T12:50:57.569Z"
   },
   {
    "duration": 445,
    "start_time": "2023-02-17T12:51:15.710Z"
   },
   {
    "duration": 16948,
    "start_time": "2023-02-17T12:51:16.156Z"
   },
   {
    "duration": 10276,
    "start_time": "2023-02-17T12:51:33.106Z"
   },
   {
    "duration": 1013,
    "start_time": "2023-02-17T12:51:43.385Z"
   },
   {
    "duration": 1495,
    "start_time": "2023-02-17T12:51:44.401Z"
   },
   {
    "duration": 930,
    "start_time": "2023-02-17T12:52:08.645Z"
   },
   {
    "duration": 2165,
    "start_time": "2023-02-17T12:52:11.213Z"
   },
   {
    "duration": 800,
    "start_time": "2023-02-17T12:52:14.489Z"
   },
   {
    "duration": 559,
    "start_time": "2023-02-17T12:52:20.510Z"
   },
   {
    "duration": 869,
    "start_time": "2023-02-17T12:52:23.500Z"
   },
   {
    "duration": 45,
    "start_time": "2023-02-17T12:53:00.453Z"
   },
   {
    "duration": 335,
    "start_time": "2023-02-17T12:53:06.590Z"
   },
   {
    "duration": 860,
    "start_time": "2023-02-17T12:53:14.549Z"
   },
   {
    "duration": 474,
    "start_time": "2023-02-17T12:54:17.435Z"
   },
   {
    "duration": 17802,
    "start_time": "2023-02-17T12:54:17.912Z"
   },
   {
    "duration": 10684,
    "start_time": "2023-02-17T12:54:35.717Z"
   },
   {
    "duration": 1065,
    "start_time": "2023-02-17T12:54:46.403Z"
   },
   {
    "duration": 1906,
    "start_time": "2023-02-17T12:54:47.473Z"
   },
   {
    "duration": 799,
    "start_time": "2023-02-17T12:54:49.381Z"
   },
   {
    "duration": 2721,
    "start_time": "2023-02-17T12:54:50.181Z"
   },
   {
    "duration": 967,
    "start_time": "2023-02-17T12:54:52.904Z"
   },
   {
    "duration": 100,
    "start_time": "2023-02-17T12:54:53.873Z"
   },
   {
    "duration": 420,
    "start_time": "2023-02-17T12:54:53.975Z"
   },
   {
    "duration": 1009,
    "start_time": "2023-02-17T12:54:58.689Z"
   },
   {
    "duration": 3,
    "start_time": "2023-02-17T12:58:16.405Z"
   },
   {
    "duration": 5,
    "start_time": "2023-02-17T12:58:19.891Z"
   },
   {
    "duration": 272,
    "start_time": "2023-02-17T13:01:11.285Z"
   },
   {
    "duration": 4,
    "start_time": "2023-02-17T13:03:13.018Z"
   },
   {
    "duration": 3,
    "start_time": "2023-02-17T13:05:27.459Z"
   },
   {
    "duration": 2293,
    "start_time": "2023-02-17T13:06:27.383Z"
   },
   {
    "duration": 251,
    "start_time": "2023-02-17T13:06:38.802Z"
   },
   {
    "duration": 857,
    "start_time": "2023-02-17T13:06:59.364Z"
   },
   {
    "duration": 17167,
    "start_time": "2023-02-17T13:07:00.223Z"
   },
   {
    "duration": 11495,
    "start_time": "2023-02-17T13:07:17.392Z"
   },
   {
    "duration": 1007,
    "start_time": "2023-02-17T13:07:28.890Z"
   },
   {
    "duration": 1598,
    "start_time": "2023-02-17T13:07:29.899Z"
   },
   {
    "duration": 1382,
    "start_time": "2023-02-17T13:07:31.500Z"
   },
   {
    "duration": 2598,
    "start_time": "2023-02-17T13:07:32.883Z"
   },
   {
    "duration": 914,
    "start_time": "2023-02-17T13:07:35.483Z"
   },
   {
    "duration": 112,
    "start_time": "2023-02-17T13:07:36.398Z"
   },
   {
    "duration": 600,
    "start_time": "2023-02-17T13:07:36.513Z"
   },
   {
    "duration": 1279,
    "start_time": "2023-02-17T13:07:37.115Z"
   },
   {
    "duration": 8,
    "start_time": "2023-02-17T13:07:38.396Z"
   },
   {
    "duration": 6,
    "start_time": "2023-02-17T13:07:38.468Z"
   },
   {
    "duration": 2293,
    "start_time": "2023-02-17T13:07:38.477Z"
   },
   {
    "duration": 300,
    "start_time": "2023-02-17T13:07:40.772Z"
   },
   {
    "duration": 22,
    "start_time": "2023-02-17T13:10:46.356Z"
   },
   {
    "duration": 12,
    "start_time": "2023-02-17T13:10:50.602Z"
   },
   {
    "duration": 90,
    "start_time": "2023-02-17T13:10:55.315Z"
   },
   {
    "duration": 16,
    "start_time": "2023-02-17T13:10:59.898Z"
   },
   {
    "duration": 15,
    "start_time": "2023-02-17T13:11:03.618Z"
   },
   {
    "duration": 18,
    "start_time": "2023-02-17T13:11:22.699Z"
   },
   {
    "duration": 28,
    "start_time": "2023-02-17T13:12:03.187Z"
   },
   {
    "duration": 176,
    "start_time": "2023-02-17T13:12:10.255Z"
   },
   {
    "duration": 36,
    "start_time": "2023-02-17T13:12:46.787Z"
   },
   {
    "duration": 5643,
    "start_time": "2023-02-17T13:12:57.959Z"
   },
   {
    "duration": 411,
    "start_time": "2023-02-17T13:14:20.692Z"
   },
   {
    "duration": 746,
    "start_time": "2023-02-17T13:16:53.471Z"
   },
   {
    "duration": 17288,
    "start_time": "2023-02-17T13:16:54.220Z"
   },
   {
    "duration": 11165,
    "start_time": "2023-02-17T13:17:11.510Z"
   },
   {
    "duration": 817,
    "start_time": "2023-02-17T13:17:22.677Z"
   },
   {
    "duration": 1704,
    "start_time": "2023-02-17T13:17:23.497Z"
   },
   {
    "duration": 1114,
    "start_time": "2023-02-17T13:17:25.204Z"
   },
   {
    "duration": 2867,
    "start_time": "2023-02-17T13:17:26.320Z"
   },
   {
    "duration": 909,
    "start_time": "2023-02-17T13:17:29.189Z"
   },
   {
    "duration": 97,
    "start_time": "2023-02-17T13:17:30.099Z"
   },
   {
    "duration": 596,
    "start_time": "2023-02-17T13:17:30.198Z"
   },
   {
    "duration": 1204,
    "start_time": "2023-02-17T13:17:30.799Z"
   },
   {
    "duration": 73,
    "start_time": "2023-02-17T13:17:32.006Z"
   },
   {
    "duration": 21,
    "start_time": "2023-02-17T13:17:32.083Z"
   },
   {
    "duration": 6,
    "start_time": "2023-02-17T13:17:32.108Z"
   },
   {
    "duration": 232,
    "start_time": "2023-02-17T13:17:37.112Z"
   },
   {
    "duration": 1717,
    "start_time": "2023-02-17T13:17:51.091Z"
   },
   {
    "duration": 875,
    "start_time": "2023-02-17T13:17:59.536Z"
   },
   {
    "duration": 45,
    "start_time": "2023-02-17T13:20:07.485Z"
   },
   {
    "duration": 259,
    "start_time": "2023-02-17T13:20:12.131Z"
   },
   {
    "duration": 588,
    "start_time": "2023-02-17T13:20:44.586Z"
   },
   {
    "duration": 36,
    "start_time": "2023-02-17T13:23:26.501Z"
   },
   {
    "duration": 1316,
    "start_time": "2023-02-17T13:23:29.885Z"
   },
   {
    "duration": 7,
    "start_time": "2023-02-17T13:23:44.130Z"
   },
   {
    "duration": 34,
    "start_time": "2023-02-17T13:24:36.640Z"
   },
   {
    "duration": 424,
    "start_time": "2023-02-17T13:24:42.996Z"
   },
   {
    "duration": 764,
    "start_time": "2023-02-17T13:27:21.549Z"
   },
   {
    "duration": 16803,
    "start_time": "2023-02-17T13:27:22.315Z"
   },
   {
    "duration": 10354,
    "start_time": "2023-02-17T13:27:39.120Z"
   },
   {
    "duration": 821,
    "start_time": "2023-02-17T13:27:49.475Z"
   },
   {
    "duration": 1770,
    "start_time": "2023-02-17T13:27:50.300Z"
   },
   {
    "duration": 1241,
    "start_time": "2023-02-17T13:27:52.072Z"
   },
   {
    "duration": 2372,
    "start_time": "2023-02-17T13:27:53.315Z"
   },
   {
    "duration": 914,
    "start_time": "2023-02-17T13:27:55.689Z"
   },
   {
    "duration": 104,
    "start_time": "2023-02-17T13:27:56.604Z"
   },
   {
    "duration": 488,
    "start_time": "2023-02-17T13:27:56.710Z"
   },
   {
    "duration": 1123,
    "start_time": "2023-02-17T13:27:57.200Z"
   },
   {
    "duration": 48,
    "start_time": "2023-02-17T13:27:58.325Z"
   },
   {
    "duration": 1992,
    "start_time": "2023-02-17T13:27:58.377Z"
   },
   {
    "duration": 994,
    "start_time": "2023-02-17T13:28:00.377Z"
   },
   {
    "duration": 117,
    "start_time": "2023-02-17T13:28:01.372Z"
   },
   {
    "duration": 112,
    "start_time": "2023-02-17T13:28:01.491Z"
   },
   {
    "duration": 1708,
    "start_time": "2023-02-17T13:28:01.605Z"
   },
   {
    "duration": 62,
    "start_time": "2023-02-17T13:28:03.314Z"
   },
   {
    "duration": 105,
    "start_time": "2023-02-17T13:28:03.377Z"
   },
   {
    "duration": 525,
    "start_time": "2023-02-17T13:28:03.484Z"
   },
   {
    "duration": 3,
    "start_time": "2023-02-17T13:30:29.809Z"
   },
   {
    "duration": 3396,
    "start_time": "2023-02-17T13:30:46.296Z"
   },
   {
    "duration": 1046,
    "start_time": "2023-02-17T13:31:13.345Z"
   },
   {
    "duration": 81,
    "start_time": "2023-02-17T13:33:12.621Z"
   },
   {
    "duration": 10,
    "start_time": "2023-02-17T13:33:17.453Z"
   },
   {
    "duration": 4,
    "start_time": "2023-02-17T13:33:42.785Z"
   },
   {
    "duration": 3439,
    "start_time": "2023-02-17T13:33:46.153Z"
   },
   {
    "duration": 980,
    "start_time": "2023-02-17T13:34:21.209Z"
   },
   {
    "duration": 118,
    "start_time": "2023-02-17T13:36:14.637Z"
   },
   {
    "duration": 3732,
    "start_time": "2023-02-17T13:38:49.442Z"
   },
   {
    "duration": 638,
    "start_time": "2023-02-17T13:39:33.176Z"
   },
   {
    "duration": 7,
    "start_time": "2023-02-17T13:40:15.537Z"
   },
   {
    "duration": 4,
    "start_time": "2023-02-17T13:42:17.542Z"
   },
   {
    "duration": 8,
    "start_time": "2023-02-17T13:42:20.658Z"
   },
   {
    "duration": 7,
    "start_time": "2023-02-17T13:42:27.657Z"
   },
   {
    "duration": 8,
    "start_time": "2023-02-17T13:42:59.949Z"
   },
   {
    "duration": 2648,
    "start_time": "2023-02-17T13:45:52.953Z"
   },
   {
    "duration": 719,
    "start_time": "2023-02-17T13:45:58.201Z"
   },
   {
    "duration": 2212,
    "start_time": "2023-02-17T13:46:21.189Z"
   },
   {
    "duration": 591,
    "start_time": "2023-02-17T13:46:24.878Z"
   },
   {
    "duration": 4,
    "start_time": "2023-02-17T13:48:13.401Z"
   },
   {
    "duration": 9,
    "start_time": "2023-02-17T13:50:00.797Z"
   },
   {
    "duration": 8,
    "start_time": "2023-02-17T13:50:08.293Z"
   },
   {
    "duration": 113,
    "start_time": "2023-02-17T13:50:32.065Z"
   },
   {
    "duration": 8,
    "start_time": "2023-02-17T13:51:14.726Z"
   },
   {
    "duration": 9,
    "start_time": "2023-02-17T13:51:27.121Z"
   },
   {
    "duration": 9,
    "start_time": "2023-02-17T13:51:48.949Z"
   },
   {
    "duration": 8,
    "start_time": "2023-02-17T13:52:00.525Z"
   },
   {
    "duration": 38,
    "start_time": "2023-02-17T13:52:05.173Z"
   },
   {
    "duration": 9,
    "start_time": "2023-02-17T13:52:19.353Z"
   },
   {
    "duration": 109,
    "start_time": "2023-02-17T13:53:32.550Z"
   },
   {
    "duration": 126,
    "start_time": "2023-02-17T13:53:53.809Z"
   },
   {
    "duration": 13,
    "start_time": "2023-02-17T13:54:12.204Z"
   },
   {
    "duration": 130,
    "start_time": "2023-02-17T13:54:16.109Z"
   },
   {
    "duration": 113,
    "start_time": "2023-02-17T13:54:28.685Z"
   },
   {
    "duration": 9,
    "start_time": "2023-02-17T13:54:31.976Z"
   },
   {
    "duration": 110,
    "start_time": "2023-02-17T13:55:11.845Z"
   },
   {
    "duration": 256,
    "start_time": "2023-02-17T13:55:21.293Z"
   },
   {
    "duration": 172,
    "start_time": "2023-02-17T13:55:24.808Z"
   },
   {
    "duration": 848,
    "start_time": "2023-02-17T13:57:08.153Z"
   },
   {
    "duration": 544,
    "start_time": "2023-02-17T13:57:40.244Z"
   },
   {
    "duration": 6,
    "start_time": "2023-02-17T13:59:46.285Z"
   },
   {
    "duration": 9,
    "start_time": "2023-02-17T14:00:40.037Z"
   },
   {
    "duration": 11,
    "start_time": "2023-02-17T14:01:51.065Z"
   },
   {
    "duration": 6,
    "start_time": "2023-02-17T14:02:29.328Z"
   },
   {
    "duration": 89,
    "start_time": "2023-02-17T14:02:57.285Z"
   },
   {
    "duration": 93,
    "start_time": "2023-02-17T14:03:03.837Z"
   },
   {
    "duration": 11,
    "start_time": "2023-02-17T14:03:09.300Z"
   },
   {
    "duration": 5,
    "start_time": "2023-02-17T14:03:13.905Z"
   },
   {
    "duration": 677,
    "start_time": "2023-02-17T14:48:08.328Z"
   },
   {
    "duration": 16707,
    "start_time": "2023-02-17T14:48:09.007Z"
   },
   {
    "duration": 10478,
    "start_time": "2023-02-17T14:48:25.716Z"
   },
   {
    "duration": 987,
    "start_time": "2023-02-17T14:48:36.196Z"
   },
   {
    "duration": 1420,
    "start_time": "2023-02-17T14:48:37.189Z"
   },
   {
    "duration": 1279,
    "start_time": "2023-02-17T14:48:38.611Z"
   },
   {
    "duration": 2401,
    "start_time": "2023-02-17T14:48:39.892Z"
   },
   {
    "duration": 874,
    "start_time": "2023-02-17T14:48:42.295Z"
   },
   {
    "duration": 111,
    "start_time": "2023-02-17T14:48:43.171Z"
   },
   {
    "duration": 520,
    "start_time": "2023-02-17T14:48:43.284Z"
   },
   {
    "duration": 1261,
    "start_time": "2023-02-17T14:48:43.806Z"
   },
   {
    "duration": 27,
    "start_time": "2023-02-17T14:48:45.069Z"
   },
   {
    "duration": 1915,
    "start_time": "2023-02-17T14:48:45.103Z"
   },
   {
    "duration": 920,
    "start_time": "2023-02-17T14:48:47.073Z"
   },
   {
    "duration": 184,
    "start_time": "2023-02-17T14:48:47.995Z"
   },
   {
    "duration": 96,
    "start_time": "2023-02-17T14:48:48.184Z"
   },
   {
    "duration": 1622,
    "start_time": "2023-02-17T14:48:48.281Z"
   },
   {
    "duration": 77,
    "start_time": "2023-02-17T14:48:49.905Z"
   },
   {
    "duration": 83,
    "start_time": "2023-02-17T14:48:49.987Z"
   },
   {
    "duration": 525,
    "start_time": "2023-02-17T14:48:50.071Z"
   },
   {
    "duration": 3,
    "start_time": "2023-02-17T14:48:50.598Z"
   },
   {
    "duration": 3586,
    "start_time": "2023-02-17T14:48:57.815Z"
   },
   {
    "duration": 4666,
    "start_time": "2023-02-17T14:50:08.608Z"
   },
   {
    "duration": 74,
    "start_time": "2023-02-17T14:50:20.787Z"
   },
   {
    "duration": 6,
    "start_time": "2023-02-17T14:50:31.203Z"
   },
   {
    "duration": 2820,
    "start_time": "2023-02-17T14:51:10.987Z"
   },
   {
    "duration": 5,
    "start_time": "2023-02-17T14:51:16.591Z"
   },
   {
    "duration": 1026,
    "start_time": "2023-02-17T14:52:13.780Z"
   },
   {
    "duration": 935,
    "start_time": "2023-02-17T14:52:45.967Z"
   },
   {
    "duration": 16,
    "start_time": "2023-02-17T14:53:23.695Z"
   },
   {
    "duration": 862,
    "start_time": "2023-02-17T14:53:45.370Z"
   },
   {
    "duration": 1025,
    "start_time": "2023-02-17T14:53:48.285Z"
   },
   {
    "duration": 606,
    "start_time": "2023-02-17T14:54:26.304Z"
   },
   {
    "duration": 590,
    "start_time": "2023-02-17T14:54:29.020Z"
   },
   {
    "duration": 1423,
    "start_time": "2023-02-17T14:54:47.831Z"
   },
   {
    "duration": 3080,
    "start_time": "2023-02-17T14:55:53.236Z"
   },
   {
    "duration": 2757,
    "start_time": "2023-02-17T14:56:29.120Z"
   },
   {
    "duration": 2737,
    "start_time": "2023-02-17T14:59:43.327Z"
   },
   {
    "duration": 715,
    "start_time": "2023-02-17T15:04:38.297Z"
   },
   {
    "duration": 16155,
    "start_time": "2023-02-17T15:04:39.013Z"
   },
   {
    "duration": 9720,
    "start_time": "2023-02-17T15:04:55.170Z"
   },
   {
    "duration": 995,
    "start_time": "2023-02-17T15:05:04.893Z"
   },
   {
    "duration": 1641,
    "start_time": "2023-02-17T15:05:05.891Z"
   },
   {
    "duration": 996,
    "start_time": "2023-02-17T15:05:07.533Z"
   },
   {
    "duration": 2147,
    "start_time": "2023-02-17T15:05:08.531Z"
   },
   {
    "duration": 21,
    "start_time": "2023-02-17T15:05:10.680Z"
   },
   {
    "duration": 29,
    "start_time": "2023-02-17T15:05:10.767Z"
   },
   {
    "duration": 9,
    "start_time": "2023-02-17T15:05:10.803Z"
   },
   {
    "duration": 507,
    "start_time": "2023-02-17T15:05:10.813Z"
   },
   {
    "duration": 768,
    "start_time": "2023-02-17T15:05:11.322Z"
   },
   {
    "duration": 6,
    "start_time": "2023-02-17T15:05:12.092Z"
   },
   {
    "duration": 1977,
    "start_time": "2023-02-17T15:05:12.100Z"
   },
   {
    "duration": 891,
    "start_time": "2023-02-17T15:05:14.079Z"
   },
   {
    "duration": 126,
    "start_time": "2023-02-17T15:05:14.972Z"
   },
   {
    "duration": 94,
    "start_time": "2023-02-17T15:05:15.105Z"
   },
   {
    "duration": 1483,
    "start_time": "2023-02-17T15:05:15.210Z"
   },
   {
    "duration": 4,
    "start_time": "2023-02-17T15:05:16.695Z"
   },
   {
    "duration": 94,
    "start_time": "2023-02-17T15:05:16.701Z"
   },
   {
    "duration": 480,
    "start_time": "2023-02-17T15:05:16.797Z"
   },
   {
    "duration": 6,
    "start_time": "2023-02-17T15:05:17.281Z"
   },
   {
    "duration": 3702,
    "start_time": "2023-02-17T15:05:17.288Z"
   },
   {
    "duration": 5204,
    "start_time": "2023-02-17T15:05:20.991Z"
   },
   {
    "duration": 82,
    "start_time": "2023-02-17T15:05:26.197Z"
   },
   {
    "duration": 3500,
    "start_time": "2023-02-17T15:05:26.280Z"
   },
   {
    "duration": 8,
    "start_time": "2023-02-17T15:05:29.782Z"
   },
   {
    "duration": 1199,
    "start_time": "2023-02-17T15:05:29.793Z"
   },
   {
    "duration": 1012,
    "start_time": "2023-02-17T15:05:30.994Z"
   },
   {
    "duration": 5781,
    "start_time": "2023-02-17T15:05:32.008Z"
   },
   {
    "duration": 762,
    "start_time": "2023-02-17T15:06:39.761Z"
   },
   {
    "duration": 16076,
    "start_time": "2023-02-17T15:06:40.525Z"
   },
   {
    "duration": 10579,
    "start_time": "2023-02-17T15:06:56.603Z"
   },
   {
    "duration": 913,
    "start_time": "2023-02-17T15:07:07.185Z"
   },
   {
    "duration": 1725,
    "start_time": "2023-02-17T15:07:08.169Z"
   },
   {
    "duration": 976,
    "start_time": "2023-02-17T15:07:09.895Z"
   },
   {
    "duration": 2421,
    "start_time": "2023-02-17T15:07:10.873Z"
   },
   {
    "duration": 778,
    "start_time": "2023-02-17T15:07:13.296Z"
   },
   {
    "duration": 97,
    "start_time": "2023-02-17T15:07:14.076Z"
   },
   {
    "duration": 410,
    "start_time": "2023-02-17T15:07:14.175Z"
   },
   {
    "duration": 996,
    "start_time": "2023-02-17T15:07:14.587Z"
   },
   {
    "duration": 7,
    "start_time": "2023-02-17T15:07:15.585Z"
   },
   {
    "duration": 1879,
    "start_time": "2023-02-17T15:07:15.593Z"
   },
   {
    "duration": 1019,
    "start_time": "2023-02-17T15:07:17.476Z"
   },
   {
    "duration": 174,
    "start_time": "2023-02-17T15:07:18.497Z"
   },
   {
    "duration": 106,
    "start_time": "2023-02-17T15:07:18.673Z"
   },
   {
    "duration": 1497,
    "start_time": "2023-02-17T15:07:18.780Z"
   },
   {
    "duration": 6,
    "start_time": "2023-02-17T15:07:20.279Z"
   },
   {
    "duration": 89,
    "start_time": "2023-02-17T15:07:20.287Z"
   },
   {
    "duration": 522,
    "start_time": "2023-02-17T15:07:20.378Z"
   },
   {
    "duration": 7,
    "start_time": "2023-02-17T15:07:20.902Z"
   },
   {
    "duration": 3831,
    "start_time": "2023-02-17T15:07:20.967Z"
   },
   {
    "duration": 5204,
    "start_time": "2023-02-17T15:07:24.868Z"
   },
   {
    "duration": 8,
    "start_time": "2023-02-17T15:07:30.074Z"
   },
   {
    "duration": 3302,
    "start_time": "2023-02-17T15:07:30.084Z"
   },
   {
    "duration": 7,
    "start_time": "2023-02-17T15:07:33.388Z"
   },
   {
    "duration": 979,
    "start_time": "2023-02-17T15:07:33.397Z"
   },
   {
    "duration": 980,
    "start_time": "2023-02-17T15:07:34.379Z"
   },
   {
    "duration": 5222,
    "start_time": "2023-02-17T15:07:35.361Z"
   },
   {
    "duration": 731,
    "start_time": "2023-02-17T15:09:51.377Z"
   },
   {
    "duration": 15889,
    "start_time": "2023-02-17T15:09:52.110Z"
   },
   {
    "duration": 8797,
    "start_time": "2023-02-17T15:10:08.001Z"
   },
   {
    "duration": 792,
    "start_time": "2023-02-17T15:10:16.801Z"
   },
   {
    "duration": 1339,
    "start_time": "2023-02-17T15:10:17.595Z"
   },
   {
    "duration": 983,
    "start_time": "2023-02-17T15:10:18.935Z"
   },
   {
    "duration": 1848,
    "start_time": "2023-02-17T15:10:19.920Z"
   },
   {
    "duration": 722,
    "start_time": "2023-02-17T15:10:21.770Z"
   },
   {
    "duration": 99,
    "start_time": "2023-02-17T15:10:22.494Z"
   },
   {
    "duration": 499,
    "start_time": "2023-02-17T15:10:22.597Z"
   },
   {
    "duration": 1094,
    "start_time": "2023-02-17T15:10:23.098Z"
   },
   {
    "duration": 97,
    "start_time": "2023-02-17T15:10:24.194Z"
   },
   {
    "duration": 3,
    "start_time": "2023-02-17T15:10:24.293Z"
   },
   {
    "duration": 1479,
    "start_time": "2023-02-17T15:10:24.297Z"
   },
   {
    "duration": 782,
    "start_time": "2023-02-17T15:10:25.778Z"
   },
   {
    "duration": 44,
    "start_time": "2023-02-17T15:10:26.561Z"
   },
   {
    "duration": 96,
    "start_time": "2023-02-17T15:10:26.607Z"
   },
   {
    "duration": 1282,
    "start_time": "2023-02-17T15:10:26.705Z"
   },
   {
    "duration": 5,
    "start_time": "2023-02-17T15:10:27.988Z"
   },
   {
    "duration": 93,
    "start_time": "2023-02-17T15:10:27.995Z"
   },
   {
    "duration": 394,
    "start_time": "2023-02-17T15:10:28.090Z"
   },
   {
    "duration": 6,
    "start_time": "2023-02-17T15:10:28.486Z"
   },
   {
    "duration": 3206,
    "start_time": "2023-02-17T15:10:28.494Z"
   },
   {
    "duration": 4823,
    "start_time": "2023-02-17T15:10:31.769Z"
   },
   {
    "duration": 77,
    "start_time": "2023-02-17T15:10:36.593Z"
   },
   {
    "duration": 3004,
    "start_time": "2023-02-17T15:10:36.672Z"
   },
   {
    "duration": 6,
    "start_time": "2023-02-17T15:10:39.678Z"
   },
   {
    "duration": 1081,
    "start_time": "2023-02-17T15:10:39.689Z"
   },
   {
    "duration": 922,
    "start_time": "2023-02-17T15:10:40.772Z"
   },
   {
    "duration": 4430,
    "start_time": "2023-02-17T15:10:41.696Z"
   },
   {
    "duration": 748,
    "start_time": "2023-02-20T09:17:10.665Z"
   },
   {
    "duration": 22192,
    "start_time": "2023-02-20T09:17:11.415Z"
   },
   {
    "duration": 9950,
    "start_time": "2023-02-20T09:17:33.609Z"
   },
   {
    "duration": 885,
    "start_time": "2023-02-20T09:17:43.561Z"
   },
   {
    "duration": 1423,
    "start_time": "2023-02-20T09:17:44.449Z"
   },
   {
    "duration": 1025,
    "start_time": "2023-02-20T09:17:45.874Z"
   },
   {
    "duration": 2048,
    "start_time": "2023-02-20T09:17:46.901Z"
   },
   {
    "duration": 804,
    "start_time": "2023-02-20T09:17:48.951Z"
   },
   {
    "duration": 108,
    "start_time": "2023-02-20T09:17:49.757Z"
   },
   {
    "duration": 405,
    "start_time": "2023-02-20T09:17:49.867Z"
   },
   {
    "duration": 1032,
    "start_time": "2023-02-20T09:17:50.340Z"
   },
   {
    "duration": 69,
    "start_time": "2023-02-20T09:17:51.375Z"
   },
   {
    "duration": 2006,
    "start_time": "2023-02-20T09:17:51.446Z"
   },
   {
    "duration": 799,
    "start_time": "2023-02-20T09:17:53.455Z"
   },
   {
    "duration": 109,
    "start_time": "2023-02-20T09:17:54.257Z"
   },
   {
    "duration": 97,
    "start_time": "2023-02-20T09:17:54.368Z"
   },
   {
    "duration": 1576,
    "start_time": "2023-02-20T09:17:54.467Z"
   },
   {
    "duration": 7,
    "start_time": "2023-02-20T09:17:56.045Z"
   },
   {
    "duration": 90,
    "start_time": "2023-02-20T09:17:56.054Z"
   },
   {
    "duration": 509,
    "start_time": "2023-02-20T09:17:56.146Z"
   },
   {
    "duration": 2,
    "start_time": "2023-02-20T09:17:56.657Z"
   },
   {
    "duration": 3489,
    "start_time": "2023-02-20T09:17:56.661Z"
   },
   {
    "duration": 5818,
    "start_time": "2023-02-20T09:18:00.153Z"
   },
   {
    "duration": 69,
    "start_time": "2023-02-20T09:18:05.973Z"
   },
   {
    "duration": 3220,
    "start_time": "2023-02-20T09:18:06.045Z"
   },
   {
    "duration": 7,
    "start_time": "2023-02-20T09:18:09.267Z"
   },
   {
    "duration": 1009,
    "start_time": "2023-02-20T09:18:09.276Z"
   },
   {
    "duration": 1082,
    "start_time": "2023-02-20T09:18:10.287Z"
   },
   {
    "duration": 4391,
    "start_time": "2023-02-20T09:18:11.371Z"
   },
   {
    "duration": 721,
    "start_time": "2023-02-20T12:08:36.662Z"
   },
   {
    "duration": 15773,
    "start_time": "2023-02-20T12:08:37.385Z"
   },
   {
    "duration": 8598,
    "start_time": "2023-02-20T12:08:53.160Z"
   },
   {
    "duration": 809,
    "start_time": "2023-02-20T12:09:01.760Z"
   },
   {
    "duration": 1206,
    "start_time": "2023-02-20T12:09:02.641Z"
   },
   {
    "duration": 1994,
    "start_time": "2023-02-20T12:09:03.848Z"
   },
   {
    "duration": 712,
    "start_time": "2023-02-20T12:09:05.844Z"
   },
   {
    "duration": 103,
    "start_time": "2023-02-20T12:09:06.557Z"
   },
   {
    "duration": 1108,
    "start_time": "2023-02-20T12:09:06.662Z"
   },
   {
    "duration": 71,
    "start_time": "2023-02-20T12:09:07.772Z"
   },
   {
    "duration": 2030,
    "start_time": "2023-02-20T12:09:07.845Z"
   },
   {
    "duration": 732,
    "start_time": "2023-02-20T12:09:09.940Z"
   },
   {
    "duration": 98,
    "start_time": "2023-02-20T12:09:10.741Z"
   },
   {
    "duration": 99,
    "start_time": "2023-02-20T12:09:10.843Z"
   },
   {
    "duration": 1522,
    "start_time": "2023-02-20T12:09:10.944Z"
   },
   {
    "duration": 96,
    "start_time": "2023-02-20T12:09:12.471Z"
   },
   {
    "duration": 385,
    "start_time": "2023-02-20T12:09:12.570Z"
   },
   {
    "duration": 3,
    "start_time": "2023-02-20T12:09:12.957Z"
   },
   {
    "duration": 3609,
    "start_time": "2023-02-20T12:09:12.962Z"
   },
   {
    "duration": 5200,
    "start_time": "2023-02-20T12:09:16.573Z"
   },
   {
    "duration": 70,
    "start_time": "2023-02-20T12:09:21.775Z"
   },
   {
    "duration": 3200,
    "start_time": "2023-02-20T12:09:21.848Z"
   },
   {
    "duration": 6,
    "start_time": "2023-02-20T12:09:25.051Z"
   },
   {
    "duration": 1100,
    "start_time": "2023-02-20T12:09:25.059Z"
   },
   {
    "duration": 910,
    "start_time": "2023-02-20T12:09:26.162Z"
   },
   {
    "duration": 4907,
    "start_time": "2023-02-20T12:09:27.074Z"
   },
   {
    "duration": 51,
    "start_time": "2023-02-21T06:39:03.483Z"
   },
   {
    "duration": 763,
    "start_time": "2023-02-21T06:40:12.079Z"
   },
   {
    "duration": 15824,
    "start_time": "2023-02-21T06:40:12.845Z"
   },
   {
    "duration": 9569,
    "start_time": "2023-02-21T06:40:28.671Z"
   },
   {
    "duration": 905,
    "start_time": "2023-02-21T06:40:38.242Z"
   },
   {
    "duration": 1333,
    "start_time": "2023-02-21T06:40:39.148Z"
   },
   {
    "duration": 1958,
    "start_time": "2023-02-21T06:40:40.483Z"
   },
   {
    "duration": 732,
    "start_time": "2023-02-21T06:40:42.443Z"
   },
   {
    "duration": 169,
    "start_time": "2023-02-21T06:40:43.177Z"
   },
   {
    "duration": 913,
    "start_time": "2023-02-21T06:40:43.349Z"
   },
   {
    "duration": 69,
    "start_time": "2023-02-21T06:40:44.269Z"
   },
   {
    "duration": 1713,
    "start_time": "2023-02-21T06:40:44.340Z"
   },
   {
    "duration": 999,
    "start_time": "2023-02-21T06:40:46.055Z"
   },
   {
    "duration": 110,
    "start_time": "2023-02-21T06:40:47.056Z"
   },
   {
    "duration": 96,
    "start_time": "2023-02-21T06:40:47.168Z"
   },
   {
    "duration": 1571,
    "start_time": "2023-02-21T06:40:47.268Z"
   },
   {
    "duration": 26,
    "start_time": "2023-02-21T06:40:48.840Z"
   },
   {
    "duration": 488,
    "start_time": "2023-02-21T06:40:48.868Z"
   },
   {
    "duration": 4,
    "start_time": "2023-02-21T06:40:49.358Z"
   },
   {
    "duration": 3373,
    "start_time": "2023-02-21T06:40:49.364Z"
   },
   {
    "duration": 4898,
    "start_time": "2023-02-21T06:40:52.740Z"
   },
   {
    "duration": 7,
    "start_time": "2023-02-21T06:40:57.640Z"
   },
   {
    "duration": 3297,
    "start_time": "2023-02-21T06:40:57.648Z"
   },
   {
    "duration": 6,
    "start_time": "2023-02-21T06:41:00.947Z"
   },
   {
    "duration": 1191,
    "start_time": "2023-02-21T06:41:00.955Z"
   },
   {
    "duration": 903,
    "start_time": "2023-02-21T06:41:02.148Z"
   },
   {
    "duration": 4258,
    "start_time": "2023-02-21T06:41:03.053Z"
   },
   {
    "duration": 736,
    "start_time": "2023-02-21T08:04:58.070Z"
   },
   {
    "duration": 14939,
    "start_time": "2023-02-21T08:04:58.808Z"
   },
   {
    "duration": 9731,
    "start_time": "2023-02-21T08:05:13.801Z"
   },
   {
    "duration": 871,
    "start_time": "2023-02-21T08:05:23.534Z"
   },
   {
    "duration": 1334,
    "start_time": "2023-02-21T08:05:24.408Z"
   },
   {
    "duration": 4793,
    "start_time": "2023-02-21T08:05:28.627Z"
   },
   {
    "duration": 1597,
    "start_time": "2023-02-21T08:06:12.634Z"
   },
   {
    "duration": 1299,
    "start_time": "2023-02-21T08:06:24.813Z"
   },
   {
    "duration": 3139,
    "start_time": "2023-02-21T08:06:39.074Z"
   },
   {
    "duration": 1931,
    "start_time": "2023-02-21T08:08:10.405Z"
   },
   {
    "duration": 788,
    "start_time": "2023-02-21T12:31:17.763Z"
   },
   {
    "duration": 15245,
    "start_time": "2023-02-21T12:31:18.554Z"
   },
   {
    "duration": 9116,
    "start_time": "2023-02-21T12:31:33.802Z"
   },
   {
    "duration": 889,
    "start_time": "2023-02-21T12:31:42.920Z"
   },
   {
    "duration": 1500,
    "start_time": "2023-02-21T12:31:43.812Z"
   },
   {
    "duration": 6013,
    "start_time": "2023-02-21T12:31:45.314Z"
   },
   {
    "duration": 1598,
    "start_time": "2023-02-21T12:31:51.329Z"
   },
   {
    "duration": 792,
    "start_time": "2023-02-21T12:31:52.929Z"
   },
   {
    "duration": 87,
    "start_time": "2023-02-21T12:31:53.725Z"
   },
   {
    "duration": 913,
    "start_time": "2023-02-21T12:31:53.815Z"
   },
   {
    "duration": 3,
    "start_time": "2023-02-21T12:31:54.731Z"
   },
   {
    "duration": 3,
    "start_time": "2023-02-21T12:31:54.799Z"
   },
   {
    "duration": 1751,
    "start_time": "2023-02-21T12:32:04.464Z"
   },
   {
    "duration": 1589,
    "start_time": "2023-02-21T12:33:29.026Z"
   },
   {
    "duration": 165,
    "start_time": "2023-02-21T12:34:07.899Z"
   },
   {
    "duration": 90,
    "start_time": "2023-02-21T12:34:28.181Z"
   },
   {
    "duration": 546,
    "start_time": "2023-02-21T12:34:55.653Z"
   },
   {
    "duration": 703,
    "start_time": "2023-02-21T12:35:06.213Z"
   },
   {
    "duration": 408,
    "start_time": "2023-02-21T12:35:08.307Z"
   },
   {
    "duration": 397,
    "start_time": "2023-02-21T12:35:24.316Z"
   },
   {
    "duration": 349,
    "start_time": "2023-02-21T12:35:30.558Z"
   },
   {
    "duration": 703,
    "start_time": "2023-02-21T12:37:02.626Z"
   },
   {
    "duration": 15306,
    "start_time": "2023-02-21T12:37:03.330Z"
   },
   {
    "duration": 8395,
    "start_time": "2023-02-21T12:37:18.639Z"
   },
   {
    "duration": 768,
    "start_time": "2023-02-21T12:37:27.037Z"
   },
   {
    "duration": 3,
    "start_time": "2023-02-21T12:37:27.806Z"
   },
   {
    "duration": 5488,
    "start_time": "2023-02-21T12:37:27.811Z"
   },
   {
    "duration": 1310,
    "start_time": "2023-02-21T12:37:33.301Z"
   },
   {
    "duration": 691,
    "start_time": "2023-02-21T12:37:34.613Z"
   },
   {
    "duration": 93,
    "start_time": "2023-02-21T12:37:35.306Z"
   },
   {
    "duration": 813,
    "start_time": "2023-02-21T12:37:35.402Z"
   },
   {
    "duration": 3,
    "start_time": "2023-02-21T12:37:36.217Z"
   },
   {
    "duration": 78,
    "start_time": "2023-02-21T12:37:36.221Z"
   },
   {
    "duration": 2003,
    "start_time": "2023-02-21T12:37:36.301Z"
   },
   {
    "duration": 1572,
    "start_time": "2023-02-21T12:37:54.072Z"
   },
   {
    "duration": 754,
    "start_time": "2023-02-21T13:38:44.878Z"
   },
   {
    "duration": 15211,
    "start_time": "2023-02-21T13:38:45.634Z"
   },
   {
    "duration": 9133,
    "start_time": "2023-02-21T13:39:00.900Z"
   },
   {
    "duration": 876,
    "start_time": "2023-02-21T13:39:10.035Z"
   },
   {
    "duration": 3,
    "start_time": "2023-02-21T13:39:10.912Z"
   },
   {
    "duration": 5904,
    "start_time": "2023-02-21T13:39:10.917Z"
   },
   {
    "duration": 1478,
    "start_time": "2023-02-21T13:39:16.823Z"
   },
   {
    "duration": 832,
    "start_time": "2023-02-21T13:39:18.304Z"
   },
   {
    "duration": 37,
    "start_time": "2023-02-21T13:39:19.199Z"
   },
   {
    "duration": 807,
    "start_time": "2023-02-21T13:39:19.301Z"
   },
   {
    "duration": 3,
    "start_time": "2023-02-21T13:39:20.110Z"
   },
   {
    "duration": 11,
    "start_time": "2023-02-21T13:39:20.115Z"
   },
   {
    "duration": 1875,
    "start_time": "2023-02-21T13:39:20.128Z"
   },
   {
    "duration": 1650,
    "start_time": "2023-02-21T13:41:04.860Z"
   },
   {
    "duration": 455,
    "start_time": "2023-02-21T13:49:58.748Z"
   },
   {
    "duration": 352,
    "start_time": "2023-02-21T13:50:03.159Z"
   },
   {
    "duration": 164,
    "start_time": "2023-02-21T13:50:29.191Z"
   },
   {
    "duration": 93,
    "start_time": "2023-02-21T13:50:38.831Z"
   },
   {
    "duration": 82,
    "start_time": "2023-02-21T13:50:41.386Z"
   },
   {
    "duration": 108,
    "start_time": "2023-02-21T13:50:48.818Z"
   },
   {
    "duration": 752,
    "start_time": "2023-02-21T13:54:04.588Z"
   },
   {
    "duration": 16003,
    "start_time": "2023-02-21T13:54:05.343Z"
   },
   {
    "duration": 10242,
    "start_time": "2023-02-21T13:54:21.400Z"
   },
   {
    "duration": 1034,
    "start_time": "2023-02-21T13:54:31.699Z"
   },
   {
    "duration": 5,
    "start_time": "2023-02-21T13:54:32.803Z"
   },
   {
    "duration": 6603,
    "start_time": "2023-02-21T13:54:32.811Z"
   },
   {
    "duration": 1407,
    "start_time": "2023-02-21T13:54:39.416Z"
   },
   {
    "duration": 904,
    "start_time": "2023-02-21T13:54:40.825Z"
   },
   {
    "duration": 100,
    "start_time": "2023-02-21T13:54:41.731Z"
   },
   {
    "duration": 868,
    "start_time": "2023-02-21T13:54:41.833Z"
   },
   {
    "duration": 9,
    "start_time": "2023-02-21T13:54:42.703Z"
   },
   {
    "duration": 10,
    "start_time": "2023-02-21T13:54:42.718Z"
   },
   {
    "duration": 9,
    "start_time": "2023-02-21T13:54:42.730Z"
   },
   {
    "duration": 1978,
    "start_time": "2023-02-21T13:54:42.741Z"
   },
   {
    "duration": 1641,
    "start_time": "2023-02-21T13:54:52.499Z"
   },
   {
    "duration": 677,
    "start_time": "2023-02-21T13:56:12.854Z"
   },
   {
    "duration": 15910,
    "start_time": "2023-02-21T13:56:13.533Z"
   },
   {
    "duration": 10071,
    "start_time": "2023-02-21T13:56:29.445Z"
   },
   {
    "duration": 814,
    "start_time": "2023-02-21T13:56:39.518Z"
   },
   {
    "duration": 66,
    "start_time": "2023-02-21T13:56:40.334Z"
   },
   {
    "duration": 6407,
    "start_time": "2023-02-21T13:56:40.403Z"
   },
   {
    "duration": 1391,
    "start_time": "2023-02-21T13:56:46.812Z"
   },
   {
    "duration": 733,
    "start_time": "2023-02-21T13:56:48.205Z"
   },
   {
    "duration": 89,
    "start_time": "2023-02-21T13:56:48.941Z"
   },
   {
    "duration": 980,
    "start_time": "2023-02-21T13:56:49.032Z"
   },
   {
    "duration": 4,
    "start_time": "2023-02-21T13:56:50.015Z"
   },
   {
    "duration": 91,
    "start_time": "2023-02-21T13:56:50.021Z"
   },
   {
    "duration": 1464,
    "start_time": "2023-02-21T13:57:05.942Z"
   },
   {
    "duration": 246,
    "start_time": "2023-02-21T13:57:38.490Z"
   },
   {
    "duration": 3,
    "start_time": "2023-02-21T13:57:48.013Z"
   },
   {
    "duration": 2886,
    "start_time": "2023-02-21T13:57:50.742Z"
   },
   {
    "duration": 625,
    "start_time": "2023-02-21T13:58:03.715Z"
   },
   {
    "duration": 2,
    "start_time": "2023-02-21T13:58:14.352Z"
   },
   {
    "duration": 112,
    "start_time": "2023-02-21T13:59:06.113Z"
   },
   {
    "duration": 81,
    "start_time": "2023-02-21T13:59:41.846Z"
   },
   {
    "duration": 4,
    "start_time": "2023-02-21T13:59:46.580Z"
   },
   {
    "duration": 7,
    "start_time": "2023-02-21T14:00:20.965Z"
   },
   {
    "duration": 693,
    "start_time": "2023-02-21T14:11:59.639Z"
   },
   {
    "duration": 15670,
    "start_time": "2023-02-21T14:12:00.334Z"
   },
   {
    "duration": 10307,
    "start_time": "2023-02-21T14:12:16.006Z"
   },
   {
    "duration": 814,
    "start_time": "2023-02-21T14:12:26.316Z"
   },
   {
    "duration": 4,
    "start_time": "2023-02-21T14:12:27.133Z"
   },
   {
    "duration": 5995,
    "start_time": "2023-02-21T14:12:27.139Z"
   },
   {
    "duration": 1375,
    "start_time": "2023-02-21T14:12:33.136Z"
   },
   {
    "duration": 722,
    "start_time": "2023-02-21T14:12:34.514Z"
   },
   {
    "duration": 39,
    "start_time": "2023-02-21T14:12:35.300Z"
   },
   {
    "duration": 1033,
    "start_time": "2023-02-21T14:12:35.399Z"
   },
   {
    "duration": 4,
    "start_time": "2023-02-21T14:12:36.434Z"
   },
   {
    "duration": 86,
    "start_time": "2023-02-21T14:12:36.440Z"
   },
   {
    "duration": 12,
    "start_time": "2023-02-21T14:12:36.528Z"
   },
   {
    "duration": 2077,
    "start_time": "2023-02-21T14:12:36.543Z"
   },
   {
    "duration": 247,
    "start_time": "2023-02-21T14:12:38.622Z"
   },
   {
    "duration": 34,
    "start_time": "2023-02-21T14:13:19.446Z"
   },
   {
    "duration": 4,
    "start_time": "2023-02-21T14:15:45.617Z"
   },
   {
    "duration": 44,
    "start_time": "2023-02-21T14:16:54.992Z"
   },
   {
    "duration": 3,
    "start_time": "2023-02-21T14:16:56.475Z"
   },
   {
    "duration": 12,
    "start_time": "2023-02-21T14:16:57.984Z"
   },
   {
    "duration": 4,
    "start_time": "2023-02-21T14:17:39.386Z"
   },
   {
    "duration": 4,
    "start_time": "2023-02-21T14:17:46.613Z"
   },
   {
    "duration": 688,
    "start_time": "2023-02-21T14:18:24.534Z"
   },
   {
    "duration": 14722,
    "start_time": "2023-02-21T14:18:25.224Z"
   },
   {
    "duration": 8599,
    "start_time": "2023-02-21T14:18:40.000Z"
   },
   {
    "duration": 701,
    "start_time": "2023-02-21T14:18:48.601Z"
   },
   {
    "duration": 3,
    "start_time": "2023-02-21T14:18:49.307Z"
   },
   {
    "duration": 6215,
    "start_time": "2023-02-21T14:18:49.312Z"
   },
   {
    "duration": 1287,
    "start_time": "2023-02-21T14:18:55.528Z"
   },
   {
    "duration": 721,
    "start_time": "2023-02-21T14:18:56.817Z"
   },
   {
    "duration": 100,
    "start_time": "2023-02-21T14:18:57.599Z"
   },
   {
    "duration": 798,
    "start_time": "2023-02-21T14:18:57.701Z"
   },
   {
    "duration": 3,
    "start_time": "2023-02-21T14:18:58.501Z"
   },
   {
    "duration": 9,
    "start_time": "2023-02-21T14:18:58.506Z"
   },
   {
    "duration": 20,
    "start_time": "2023-02-21T14:18:58.517Z"
   },
   {
    "duration": 1960,
    "start_time": "2023-02-21T14:18:58.540Z"
   },
   {
    "duration": 4,
    "start_time": "2023-02-21T14:19:00.502Z"
   },
   {
    "duration": 135,
    "start_time": "2023-02-21T14:19:00.508Z"
   },
   {
    "duration": 3,
    "start_time": "2023-02-21T14:19:00.698Z"
   },
   {
    "duration": 17,
    "start_time": "2023-02-21T14:19:00.702Z"
   },
   {
    "duration": 27,
    "start_time": "2023-02-21T14:19:00.720Z"
   },
   {
    "duration": 51,
    "start_time": "2023-02-21T14:19:00.749Z"
   },
   {
    "duration": 42,
    "start_time": "2023-02-21T14:19:00.802Z"
   },
   {
    "duration": 25,
    "start_time": "2023-02-21T14:19:00.846Z"
   },
   {
    "duration": 46,
    "start_time": "2023-02-21T14:19:00.872Z"
   },
   {
    "duration": 29,
    "start_time": "2023-02-21T14:19:00.920Z"
   },
   {
    "duration": 69,
    "start_time": "2023-02-21T14:19:00.951Z"
   },
   {
    "duration": 3,
    "start_time": "2023-02-21T14:19:01.021Z"
   },
   {
    "duration": 3037,
    "start_time": "2023-02-21T14:19:08.903Z"
   },
   {
    "duration": 1553,
    "start_time": "2023-02-21T14:21:55.121Z"
   },
   {
    "duration": 713,
    "start_time": "2023-02-21T14:23:35.026Z"
   },
   {
    "duration": 16713,
    "start_time": "2023-02-21T14:23:35.741Z"
   },
   {
    "duration": 9655,
    "start_time": "2023-02-21T14:23:52.456Z"
   },
   {
    "duration": 802,
    "start_time": "2023-02-21T14:24:02.113Z"
   },
   {
    "duration": 3,
    "start_time": "2023-02-21T14:24:02.918Z"
   },
   {
    "duration": 6203,
    "start_time": "2023-02-21T14:24:02.923Z"
   },
   {
    "duration": 1389,
    "start_time": "2023-02-21T14:24:09.128Z"
   },
   {
    "duration": 719,
    "start_time": "2023-02-21T14:24:10.518Z"
   },
   {
    "duration": 91,
    "start_time": "2023-02-21T14:24:11.238Z"
   },
   {
    "duration": 974,
    "start_time": "2023-02-21T14:24:11.331Z"
   },
   {
    "duration": 5,
    "start_time": "2023-02-21T14:24:12.307Z"
   },
   {
    "duration": 16,
    "start_time": "2023-02-21T14:24:12.314Z"
   },
   {
    "duration": 6,
    "start_time": "2023-02-21T14:24:12.331Z"
   },
   {
    "duration": 48,
    "start_time": "2023-02-21T14:24:35.241Z"
   },
   {
    "duration": 45,
    "start_time": "2023-02-21T14:24:38.707Z"
   },
   {
    "duration": 3,
    "start_time": "2023-02-21T14:24:39.652Z"
   },
   {
    "duration": 73,
    "start_time": "2023-02-21T14:24:40.955Z"
   },
   {
    "duration": 750,
    "start_time": "2023-02-21T14:24:51.499Z"
   },
   {
    "duration": 16677,
    "start_time": "2023-02-21T14:24:52.252Z"
   },
   {
    "duration": 10707,
    "start_time": "2023-02-21T14:25:08.931Z"
   },
   {
    "duration": 989,
    "start_time": "2023-02-21T14:25:19.640Z"
   },
   {
    "duration": 10,
    "start_time": "2023-02-21T14:25:20.702Z"
   },
   {
    "duration": 6396,
    "start_time": "2023-02-21T14:25:20.714Z"
   },
   {
    "duration": 1406,
    "start_time": "2023-02-21T14:25:27.115Z"
   },
   {
    "duration": 779,
    "start_time": "2023-02-21T14:25:28.522Z"
   },
   {
    "duration": 103,
    "start_time": "2023-02-21T14:25:29.308Z"
   },
   {
    "duration": 909,
    "start_time": "2023-02-21T14:25:29.413Z"
   },
   {
    "duration": 3,
    "start_time": "2023-02-21T14:25:30.324Z"
   },
   {
    "duration": 77,
    "start_time": "2023-02-21T14:25:30.328Z"
   },
   {
    "duration": 42,
    "start_time": "2023-02-21T14:25:30.407Z"
   },
   {
    "duration": 2071,
    "start_time": "2023-02-21T14:25:30.453Z"
   },
   {
    "duration": 179,
    "start_time": "2023-02-21T14:25:32.525Z"
   },
   {
    "duration": 3,
    "start_time": "2023-02-21T14:25:32.706Z"
   },
   {
    "duration": 16,
    "start_time": "2023-02-21T14:25:32.711Z"
   },
   {
    "duration": 8,
    "start_time": "2023-02-21T14:25:32.729Z"
   },
   {
    "duration": 61,
    "start_time": "2023-02-21T14:25:32.739Z"
   },
   {
    "duration": 7,
    "start_time": "2023-02-21T14:25:32.802Z"
   },
   {
    "duration": 11,
    "start_time": "2023-02-21T14:25:32.811Z"
   },
   {
    "duration": 7,
    "start_time": "2023-02-21T14:25:32.826Z"
   },
   {
    "duration": 8,
    "start_time": "2023-02-21T14:25:32.834Z"
   },
   {
    "duration": 159,
    "start_time": "2023-02-21T14:25:32.844Z"
   },
   {
    "duration": 3,
    "start_time": "2023-02-21T14:25:33.005Z"
   },
   {
    "duration": 21,
    "start_time": "2023-02-21T14:25:33.009Z"
   },
   {
    "duration": 4068,
    "start_time": "2023-02-21T14:25:38.455Z"
   },
   {
    "duration": 666,
    "start_time": "2023-02-21T14:29:10.042Z"
   },
   {
    "duration": 15923,
    "start_time": "2023-02-21T14:29:10.710Z"
   },
   {
    "duration": 9286,
    "start_time": "2023-02-21T14:29:26.635Z"
   },
   {
    "duration": 979,
    "start_time": "2023-02-21T14:29:35.923Z"
   },
   {
    "duration": 7,
    "start_time": "2023-02-21T14:29:36.908Z"
   },
   {
    "duration": 6515,
    "start_time": "2023-02-21T14:29:36.918Z"
   },
   {
    "duration": 1495,
    "start_time": "2023-02-21T14:29:43.434Z"
   },
   {
    "duration": 719,
    "start_time": "2023-02-21T14:29:45.001Z"
   },
   {
    "duration": 96,
    "start_time": "2023-02-21T14:29:45.722Z"
   },
   {
    "duration": 917,
    "start_time": "2023-02-21T14:29:45.821Z"
   },
   {
    "duration": 4,
    "start_time": "2023-02-21T14:29:46.803Z"
   },
   {
    "duration": 20,
    "start_time": "2023-02-21T14:29:46.809Z"
   },
   {
    "duration": 11,
    "start_time": "2023-02-21T14:29:46.831Z"
   },
   {
    "duration": 2165,
    "start_time": "2023-02-21T14:29:46.845Z"
   },
   {
    "duration": 44,
    "start_time": "2023-02-21T14:29:57.614Z"
   },
   {
    "duration": 41,
    "start_time": "2023-02-21T14:30:01.523Z"
   },
   {
    "duration": 3,
    "start_time": "2023-02-21T14:30:02.947Z"
   },
   {
    "duration": 4,
    "start_time": "2023-02-21T14:30:03.827Z"
   },
   {
    "duration": 8844,
    "start_time": "2023-02-21T14:30:05.278Z"
   },
   {
    "duration": 85,
    "start_time": "2023-02-21T14:30:52.801Z"
   },
   {
    "duration": 210,
    "start_time": "2023-02-21T14:31:33.510Z"
   },
   {
    "duration": 555,
    "start_time": "2023-02-21T14:31:45.169Z"
   },
   {
    "duration": 589,
    "start_time": "2023-02-21T14:32:01.816Z"
   },
   {
    "duration": 682,
    "start_time": "2023-02-21T14:32:38.118Z"
   },
   {
    "duration": 576,
    "start_time": "2023-02-21T14:32:49.556Z"
   },
   {
    "duration": 674,
    "start_time": "2023-02-21T14:36:09.162Z"
   },
   {
    "duration": 15275,
    "start_time": "2023-02-21T14:36:09.838Z"
   },
   {
    "duration": 8396,
    "start_time": "2023-02-21T14:36:25.115Z"
   },
   {
    "duration": 796,
    "start_time": "2023-02-21T14:36:33.513Z"
   },
   {
    "duration": 2,
    "start_time": "2023-02-21T14:36:34.314Z"
   },
   {
    "duration": 5585,
    "start_time": "2023-02-21T14:36:34.318Z"
   },
   {
    "duration": 1305,
    "start_time": "2023-02-21T14:36:39.905Z"
   },
   {
    "duration": 695,
    "start_time": "2023-02-21T14:36:41.211Z"
   },
   {
    "duration": 27,
    "start_time": "2023-02-21T14:36:41.908Z"
   },
   {
    "duration": 865,
    "start_time": "2023-02-21T14:36:41.936Z"
   },
   {
    "duration": 3,
    "start_time": "2023-02-21T14:36:42.803Z"
   },
   {
    "duration": 8,
    "start_time": "2023-02-21T14:36:42.807Z"
   },
   {
    "duration": 1715,
    "start_time": "2023-02-21T14:36:42.817Z"
   },
   {
    "duration": 54,
    "start_time": "2023-02-21T14:41:24.276Z"
   },
   {
    "duration": 38,
    "start_time": "2023-02-21T14:41:30.518Z"
   },
   {
    "duration": 2,
    "start_time": "2023-02-21T14:41:31.408Z"
   },
   {
    "duration": 4,
    "start_time": "2023-02-21T14:41:32.111Z"
   },
   {
    "duration": 8042,
    "start_time": "2023-02-21T14:41:33.483Z"
   },
   {
    "duration": 237,
    "start_time": "2023-02-21T14:41:44.797Z"
   },
   {
    "duration": 564,
    "start_time": "2023-02-21T14:41:46.361Z"
   },
   {
    "duration": 684,
    "start_time": "2023-02-21T14:42:12.565Z"
   },
   {
    "duration": 15276,
    "start_time": "2023-02-21T14:42:13.251Z"
   },
   {
    "duration": 8901,
    "start_time": "2023-02-21T14:42:28.529Z"
   },
   {
    "duration": 791,
    "start_time": "2023-02-21T14:42:37.432Z"
   },
   {
    "duration": 3,
    "start_time": "2023-02-21T14:42:38.226Z"
   },
   {
    "duration": 6186,
    "start_time": "2023-02-21T14:42:38.230Z"
   },
   {
    "duration": 1506,
    "start_time": "2023-02-21T14:42:44.418Z"
   },
   {
    "duration": 804,
    "start_time": "2023-02-21T14:42:45.928Z"
   },
   {
    "duration": 100,
    "start_time": "2023-02-21T14:42:46.734Z"
   },
   {
    "duration": 976,
    "start_time": "2023-02-21T14:42:46.836Z"
   },
   {
    "duration": 3,
    "start_time": "2023-02-21T14:42:47.815Z"
   },
   {
    "duration": 13,
    "start_time": "2023-02-21T14:42:47.820Z"
   },
   {
    "duration": 1898,
    "start_time": "2023-02-21T14:42:47.835Z"
   },
   {
    "duration": 200,
    "start_time": "2023-02-21T14:42:49.737Z"
   },
   {
    "duration": 63,
    "start_time": "2023-02-21T14:42:49.939Z"
   },
   {
    "duration": 14,
    "start_time": "2023-02-21T14:42:50.005Z"
   },
   {
    "duration": 42,
    "start_time": "2023-02-21T14:42:50.021Z"
   },
   {
    "duration": 8,
    "start_time": "2023-02-21T14:42:50.065Z"
   },
   {
    "duration": 8,
    "start_time": "2023-02-21T14:42:50.075Z"
   },
   {
    "duration": 16,
    "start_time": "2023-02-21T14:42:50.085Z"
   },
   {
    "duration": 10,
    "start_time": "2023-02-21T14:42:50.103Z"
   },
   {
    "duration": 10,
    "start_time": "2023-02-21T14:42:50.116Z"
   },
   {
    "duration": 6,
    "start_time": "2023-02-21T14:42:50.128Z"
   },
   {
    "duration": 55,
    "start_time": "2023-02-21T14:42:50.136Z"
   },
   {
    "duration": 3,
    "start_time": "2023-02-21T14:42:50.193Z"
   },
   {
    "duration": 13,
    "start_time": "2023-02-21T14:42:50.198Z"
   },
   {
    "duration": 9617,
    "start_time": "2023-02-21T14:42:50.213Z"
   },
   {
    "duration": 373,
    "start_time": "2023-02-21T14:42:59.833Z"
   },
   {
    "duration": 733,
    "start_time": "2023-02-21T14:43:00.208Z"
   },
   {
    "duration": 930,
    "start_time": "2023-02-21T14:43:01.000Z"
   },
   {
    "duration": 1535,
    "start_time": "2023-02-21T14:44:24.709Z"
   },
   {
    "duration": 670,
    "start_time": "2023-02-21T14:55:59.756Z"
   },
   {
    "duration": 15191,
    "start_time": "2023-02-21T14:56:00.428Z"
   },
   {
    "duration": 9395,
    "start_time": "2023-02-21T14:56:15.621Z"
   },
   {
    "duration": 708,
    "start_time": "2023-02-21T14:56:25.019Z"
   },
   {
    "duration": 3,
    "start_time": "2023-02-21T14:56:25.728Z"
   },
   {
    "duration": 5411,
    "start_time": "2023-02-21T14:56:25.798Z"
   },
   {
    "duration": 1295,
    "start_time": "2023-02-21T14:56:31.210Z"
   },
   {
    "duration": 694,
    "start_time": "2023-02-21T14:56:32.507Z"
   },
   {
    "duration": 30,
    "start_time": "2023-02-21T14:56:33.203Z"
   },
   {
    "duration": 801,
    "start_time": "2023-02-21T14:56:33.298Z"
   },
   {
    "duration": 4,
    "start_time": "2023-02-21T14:56:34.101Z"
   },
   {
    "duration": 9,
    "start_time": "2023-02-21T14:56:34.107Z"
   },
   {
    "duration": 1786,
    "start_time": "2023-02-21T14:56:34.118Z"
   },
   {
    "duration": 125,
    "start_time": "2023-02-21T14:56:35.906Z"
   },
   {
    "duration": 73,
    "start_time": "2023-02-21T14:56:36.034Z"
   },
   {
    "duration": 8,
    "start_time": "2023-02-21T14:56:36.109Z"
   },
   {
    "duration": 14,
    "start_time": "2023-02-21T14:56:36.119Z"
   },
   {
    "duration": 9,
    "start_time": "2023-02-21T14:56:36.135Z"
   },
   {
    "duration": 53,
    "start_time": "2023-02-21T14:56:36.146Z"
   },
   {
    "duration": 7,
    "start_time": "2023-02-21T14:56:36.202Z"
   },
   {
    "duration": 29,
    "start_time": "2023-02-21T14:56:36.211Z"
   },
   {
    "duration": 18,
    "start_time": "2023-02-21T14:56:36.242Z"
   },
   {
    "duration": 12,
    "start_time": "2023-02-21T14:56:36.261Z"
   },
   {
    "duration": 8,
    "start_time": "2023-02-21T14:56:36.275Z"
   },
   {
    "duration": 62,
    "start_time": "2023-02-21T14:56:36.285Z"
   },
   {
    "duration": 9,
    "start_time": "2023-02-21T14:56:36.400Z"
   },
   {
    "duration": 15,
    "start_time": "2023-02-21T14:56:36.411Z"
   },
   {
    "duration": 9,
    "start_time": "2023-02-21T14:56:36.430Z"
   },
   {
    "duration": 14,
    "start_time": "2023-02-21T14:56:36.440Z"
   },
   {
    "duration": 13,
    "start_time": "2023-02-21T14:56:36.456Z"
   },
   {
    "duration": 103,
    "start_time": "2023-02-21T14:56:36.471Z"
   },
   {
    "duration": 0,
    "start_time": "2023-02-21T14:56:36.576Z"
   },
   {
    "duration": 0,
    "start_time": "2023-02-21T14:56:36.578Z"
   },
   {
    "duration": 0,
    "start_time": "2023-02-21T14:56:36.579Z"
   },
   {
    "duration": 0,
    "start_time": "2023-02-21T14:56:36.581Z"
   },
   {
    "duration": 8079,
    "start_time": "2023-02-21T14:58:03.725Z"
   },
   {
    "duration": 4139,
    "start_time": "2023-02-21T14:58:12.979Z"
   },
   {
    "duration": 598,
    "start_time": "2023-02-21T14:58:20.005Z"
   },
   {
    "duration": 382,
    "start_time": "2023-02-21T14:58:22.550Z"
   },
   {
    "duration": 395,
    "start_time": "2023-02-21T14:58:26.005Z"
   },
   {
    "duration": 2998,
    "start_time": "2023-02-21T14:58:34.439Z"
   },
   {
    "duration": 2838,
    "start_time": "2023-02-21T14:59:42.092Z"
   },
   {
    "duration": 269,
    "start_time": "2023-02-21T14:59:46.466Z"
   },
   {
    "duration": 453,
    "start_time": "2023-02-21T14:59:48.201Z"
   },
   {
    "duration": 455,
    "start_time": "2023-02-21T14:59:49.745Z"
   },
   {
    "duration": 2301,
    "start_time": "2023-02-21T14:59:59.222Z"
   },
   {
    "duration": 678,
    "start_time": "2023-02-21T15:03:57.850Z"
   },
   {
    "duration": 14994,
    "start_time": "2023-02-21T15:03:58.530Z"
   },
   {
    "duration": 9390,
    "start_time": "2023-02-21T15:04:13.526Z"
   },
   {
    "duration": 706,
    "start_time": "2023-02-21T15:04:22.919Z"
   },
   {
    "duration": 3,
    "start_time": "2023-02-21T15:04:23.629Z"
   },
   {
    "duration": 5421,
    "start_time": "2023-02-21T15:04:23.700Z"
   },
   {
    "duration": 1308,
    "start_time": "2023-02-21T15:04:29.123Z"
   },
   {
    "duration": 702,
    "start_time": "2023-02-21T15:04:30.500Z"
   },
   {
    "duration": 108,
    "start_time": "2023-02-21T15:04:31.204Z"
   },
   {
    "duration": 887,
    "start_time": "2023-02-21T15:04:31.314Z"
   },
   {
    "duration": 4,
    "start_time": "2023-02-21T15:04:32.202Z"
   },
   {
    "duration": 13,
    "start_time": "2023-02-21T15:04:32.207Z"
   },
   {
    "duration": 1673,
    "start_time": "2023-02-21T15:05:29.744Z"
   },
   {
    "duration": 30,
    "start_time": "2023-02-21T15:05:33.228Z"
   },
   {
    "duration": 44,
    "start_time": "2023-02-21T15:05:51.327Z"
   },
   {
    "duration": 4,
    "start_time": "2023-02-21T15:05:54.060Z"
   },
   {
    "duration": 5,
    "start_time": "2023-02-21T15:05:57.159Z"
   },
   {
    "duration": 5149,
    "start_time": "2023-02-21T15:05:58.852Z"
   },
   {
    "duration": 110,
    "start_time": "2023-02-21T15:06:10.911Z"
   },
   {
    "duration": 536,
    "start_time": "2023-02-21T15:06:17.473Z"
   },
   {
    "duration": 171,
    "start_time": "2023-02-21T15:06:28.902Z"
   },
   {
    "duration": 1479,
    "start_time": "2023-02-21T15:06:43.449Z"
   },
   {
    "duration": 35,
    "start_time": "2023-02-21T15:07:21.484Z"
   },
   {
    "duration": 7,
    "start_time": "2023-02-21T15:07:25.213Z"
   },
   {
    "duration": 3,
    "start_time": "2023-02-21T15:07:26.841Z"
   },
   {
    "duration": 4,
    "start_time": "2023-02-21T15:07:27.763Z"
   },
   {
    "duration": 2209,
    "start_time": "2023-02-21T15:07:32.007Z"
   },
   {
    "duration": 8,
    "start_time": "2023-02-21T15:07:42.712Z"
   },
   {
    "duration": 4,
    "start_time": "2023-02-21T15:07:45.731Z"
   },
   {
    "duration": 5,
    "start_time": "2023-02-21T15:07:47.948Z"
   },
   {
    "duration": 1341,
    "start_time": "2023-02-21T15:07:49.342Z"
   },
   {
    "duration": 717,
    "start_time": "2023-02-21T15:08:25.828Z"
   },
   {
    "duration": 15391,
    "start_time": "2023-02-21T15:08:26.548Z"
   },
   {
    "duration": 9716,
    "start_time": "2023-02-21T15:08:41.999Z"
   },
   {
    "duration": 785,
    "start_time": "2023-02-21T15:08:51.717Z"
   },
   {
    "duration": 3,
    "start_time": "2023-02-21T15:08:52.504Z"
   },
   {
    "duration": 6008,
    "start_time": "2023-02-21T15:08:52.509Z"
   },
   {
    "duration": 1197,
    "start_time": "2023-02-21T15:08:58.520Z"
   },
   {
    "duration": 684,
    "start_time": "2023-02-21T15:08:59.719Z"
   },
   {
    "duration": 93,
    "start_time": "2023-02-21T15:09:00.406Z"
   },
   {
    "duration": 903,
    "start_time": "2023-02-21T15:09:00.502Z"
   },
   {
    "duration": 3,
    "start_time": "2023-02-21T15:09:01.407Z"
   },
   {
    "duration": 34,
    "start_time": "2023-02-21T15:09:01.412Z"
   },
   {
    "duration": 1706,
    "start_time": "2023-02-21T15:09:17.723Z"
   },
   {
    "duration": 116,
    "start_time": "2023-02-21T15:09:19.500Z"
   },
   {
    "duration": 11,
    "start_time": "2023-02-21T15:09:22.923Z"
   },
   {
    "duration": 38,
    "start_time": "2023-02-21T15:09:28.448Z"
   },
   {
    "duration": 8,
    "start_time": "2023-02-21T15:09:30.429Z"
   },
   {
    "duration": 3,
    "start_time": "2023-02-21T15:09:32.461Z"
   },
   {
    "duration": 3,
    "start_time": "2023-02-21T15:09:33.534Z"
   },
   {
    "duration": 3,
    "start_time": "2023-02-21T15:09:35.512Z"
   },
   {
    "duration": 3,
    "start_time": "2023-02-21T15:09:36.513Z"
   },
   {
    "duration": 7302,
    "start_time": "2023-02-21T15:09:37.591Z"
   },
   {
    "duration": 2458,
    "start_time": "2023-02-21T15:09:46.144Z"
   },
   {
    "duration": 317,
    "start_time": "2023-02-21T15:09:51.524Z"
   },
   {
    "duration": 498,
    "start_time": "2023-02-21T15:09:56.037Z"
   },
   {
    "duration": 463,
    "start_time": "2023-02-21T15:09:58.874Z"
   },
   {
    "duration": 2713,
    "start_time": "2023-02-21T15:10:04.409Z"
   },
   {
    "duration": 755,
    "start_time": "2023-02-21T15:37:50.088Z"
   },
   {
    "duration": 15161,
    "start_time": "2023-02-21T15:37:50.845Z"
   },
   {
    "duration": 8398,
    "start_time": "2023-02-21T15:38:06.009Z"
   },
   {
    "duration": 698,
    "start_time": "2023-02-21T15:38:14.409Z"
   },
   {
    "duration": 2,
    "start_time": "2023-02-21T15:38:15.109Z"
   },
   {
    "duration": 5715,
    "start_time": "2023-02-21T15:38:15.112Z"
   },
   {
    "duration": 1182,
    "start_time": "2023-02-21T15:38:20.829Z"
   },
   {
    "duration": 603,
    "start_time": "2023-02-21T15:38:22.013Z"
   },
   {
    "duration": 88,
    "start_time": "2023-02-21T15:38:22.617Z"
   },
   {
    "duration": 732,
    "start_time": "2023-02-21T15:38:22.709Z"
   },
   {
    "duration": 56,
    "start_time": "2023-02-21T15:38:23.444Z"
   },
   {
    "duration": 11,
    "start_time": "2023-02-21T15:38:23.502Z"
   },
   {
    "duration": 1709,
    "start_time": "2023-02-21T15:38:23.515Z"
   },
   {
    "duration": 176,
    "start_time": "2023-02-21T15:38:25.226Z"
   },
   {
    "duration": 12,
    "start_time": "2023-02-21T15:38:25.404Z"
   },
   {
    "duration": 40,
    "start_time": "2023-02-21T15:56:16.295Z"
   },
   {
    "duration": 8,
    "start_time": "2023-02-21T15:56:17.411Z"
   },
   {
    "duration": 4,
    "start_time": "2023-02-21T15:56:19.763Z"
   },
   {
    "duration": 4,
    "start_time": "2023-02-21T15:56:21.087Z"
   },
   {
    "duration": 4,
    "start_time": "2023-02-21T15:59:32.030Z"
   },
   {
    "duration": 9343,
    "start_time": "2023-02-21T15:59:33.466Z"
   },
   {
    "duration": 299,
    "start_time": "2023-02-21T16:00:14.522Z"
   },
   {
    "duration": 350,
    "start_time": "2023-02-21T16:02:00.558Z"
   },
   {
    "duration": 423,
    "start_time": "2023-02-21T16:02:02.507Z"
   },
   {
    "duration": 2547,
    "start_time": "2023-02-21T16:02:59.385Z"
   },
   {
    "duration": 76,
    "start_time": "2023-02-21T16:06:36.367Z"
   },
   {
    "duration": 812,
    "start_time": "2023-02-21T16:06:49.009Z"
   },
   {
    "duration": 16423,
    "start_time": "2023-02-21T16:06:49.823Z"
   },
   {
    "duration": 8914,
    "start_time": "2023-02-21T16:07:06.300Z"
   },
   {
    "duration": 993,
    "start_time": "2023-02-21T16:07:15.216Z"
   },
   {
    "duration": 3,
    "start_time": "2023-02-21T16:07:16.211Z"
   },
   {
    "duration": 6187,
    "start_time": "2023-02-21T16:07:16.215Z"
   },
   {
    "duration": 1303,
    "start_time": "2023-02-21T16:07:22.404Z"
   },
   {
    "duration": 726,
    "start_time": "2023-02-21T16:07:23.709Z"
   },
   {
    "duration": 86,
    "start_time": "2023-02-21T16:07:24.437Z"
   },
   {
    "duration": 875,
    "start_time": "2023-02-21T16:07:24.525Z"
   },
   {
    "duration": 3,
    "start_time": "2023-02-21T16:07:25.402Z"
   },
   {
    "duration": 15,
    "start_time": "2023-02-21T16:07:25.407Z"
   },
   {
    "duration": 1983,
    "start_time": "2023-02-21T16:07:25.424Z"
   },
   {
    "duration": 114,
    "start_time": "2023-02-21T16:07:27.409Z"
   },
   {
    "duration": 11,
    "start_time": "2023-02-21T16:07:27.525Z"
   },
   {
    "duration": 68,
    "start_time": "2023-02-21T16:07:27.537Z"
   },
   {
    "duration": 9,
    "start_time": "2023-02-21T16:07:27.606Z"
   },
   {
    "duration": 3,
    "start_time": "2023-02-21T16:07:27.617Z"
   },
   {
    "duration": 10103,
    "start_time": "2023-02-21T16:07:27.622Z"
   },
   {
    "duration": 379,
    "start_time": "2023-02-21T16:07:37.726Z"
   },
   {
    "duration": 445,
    "start_time": "2023-02-21T16:07:38.107Z"
   },
   {
    "duration": 456,
    "start_time": "2023-02-21T16:07:38.554Z"
   },
   {
    "duration": 2925,
    "start_time": "2023-02-21T16:07:39.012Z"
   },
   {
    "duration": 501,
    "start_time": "2023-02-21T16:07:41.938Z"
   },
   {
    "duration": 261,
    "start_time": "2023-02-21T16:39:42.394Z"
   },
   {
    "duration": 5,
    "start_time": "2023-02-21T16:39:51.256Z"
   },
   {
    "duration": 394,
    "start_time": "2023-02-21T16:39:53.051Z"
   },
   {
    "duration": 560,
    "start_time": "2023-02-21T16:39:54.571Z"
   },
   {
    "duration": 161,
    "start_time": "2023-02-21T16:39:56.366Z"
   },
   {
    "duration": 2080,
    "start_time": "2023-02-21T16:39:58.650Z"
   },
   {
    "duration": 630,
    "start_time": "2023-02-21T16:40:02.970Z"
   },
   {
    "duration": 445,
    "start_time": "2023-02-21T16:40:05.769Z"
   },
   {
    "duration": 4,
    "start_time": "2023-02-21T16:40:09.346Z"
   },
   {
    "duration": 722,
    "start_time": "2023-02-21T16:40:58.022Z"
   },
   {
    "duration": 16389,
    "start_time": "2023-02-21T16:40:58.746Z"
   },
   {
    "duration": 11100,
    "start_time": "2023-02-21T16:41:15.137Z"
   },
   {
    "duration": 984,
    "start_time": "2023-02-21T16:41:26.239Z"
   },
   {
    "duration": 7018,
    "start_time": "2023-02-21T16:41:27.225Z"
   },
   {
    "duration": 1264,
    "start_time": "2023-02-21T16:41:34.244Z"
   },
   {
    "duration": 919,
    "start_time": "2023-02-21T16:41:35.510Z"
   },
   {
    "duration": 3,
    "start_time": "2023-02-21T16:41:36.431Z"
   },
   {
    "duration": 65,
    "start_time": "2023-02-21T16:41:36.435Z"
   },
   {
    "duration": 117,
    "start_time": "2023-02-21T16:41:36.504Z"
   },
   {
    "duration": 1086,
    "start_time": "2023-02-21T16:41:36.626Z"
   },
   {
    "duration": 11,
    "start_time": "2023-02-21T16:41:37.714Z"
   },
   {
    "duration": 14,
    "start_time": "2023-02-21T16:41:37.726Z"
   },
   {
    "duration": 1984,
    "start_time": "2023-02-21T16:41:37.742Z"
   },
   {
    "duration": 202,
    "start_time": "2023-02-21T16:41:39.727Z"
   },
   {
    "duration": 11,
    "start_time": "2023-02-21T16:41:39.930Z"
   },
   {
    "duration": 100,
    "start_time": "2023-02-21T16:41:40.002Z"
   },
   {
    "duration": 9,
    "start_time": "2023-02-21T16:41:40.104Z"
   },
   {
    "duration": 12,
    "start_time": "2023-02-21T16:41:40.116Z"
   },
   {
    "duration": 12375,
    "start_time": "2023-02-21T16:41:40.130Z"
   },
   {
    "duration": 520,
    "start_time": "2023-02-21T16:41:52.507Z"
   },
   {
    "duration": 706,
    "start_time": "2023-02-21T16:41:53.029Z"
   },
   {
    "duration": 601,
    "start_time": "2023-02-21T16:41:53.737Z"
   },
   {
    "duration": 3490,
    "start_time": "2023-02-21T16:41:54.340Z"
   },
   {
    "duration": 301,
    "start_time": "2023-02-21T16:41:57.832Z"
   },
   {
    "duration": 771,
    "start_time": "2023-02-21T16:50:58.783Z"
   },
   {
    "duration": 17050,
    "start_time": "2023-02-21T16:50:59.556Z"
   },
   {
    "duration": 10190,
    "start_time": "2023-02-21T16:51:16.609Z"
   },
   {
    "duration": 922,
    "start_time": "2023-02-21T16:51:26.803Z"
   },
   {
    "duration": 7272,
    "start_time": "2023-02-21T16:51:27.727Z"
   },
   {
    "duration": 1623,
    "start_time": "2023-02-21T16:51:35.002Z"
   },
   {
    "duration": 1071,
    "start_time": "2023-02-21T16:51:36.628Z"
   },
   {
    "duration": 3,
    "start_time": "2023-02-21T16:51:37.701Z"
   },
   {
    "duration": 110,
    "start_time": "2023-02-21T16:51:37.705Z"
   },
   {
    "duration": 896,
    "start_time": "2023-02-21T16:51:37.820Z"
   },
   {
    "duration": 4,
    "start_time": "2023-02-21T16:51:38.719Z"
   },
   {
    "duration": 14,
    "start_time": "2023-02-21T16:51:38.725Z"
   },
   {
    "duration": 2081,
    "start_time": "2023-02-21T16:51:38.742Z"
   },
   {
    "duration": 181,
    "start_time": "2023-02-21T16:51:40.825Z"
   },
   {
    "duration": 13,
    "start_time": "2023-02-21T16:51:41.008Z"
   },
   {
    "duration": 109,
    "start_time": "2023-02-21T16:51:41.023Z"
   },
   {
    "duration": 65,
    "start_time": "2023-02-21T16:51:41.134Z"
   },
   {
    "duration": 4,
    "start_time": "2023-02-21T16:51:41.201Z"
   },
   {
    "duration": 12698,
    "start_time": "2023-02-21T16:51:41.207Z"
   },
   {
    "duration": 434,
    "start_time": "2023-02-21T16:51:53.907Z"
   },
   {
    "duration": 563,
    "start_time": "2023-02-21T16:51:54.400Z"
   },
   {
    "duration": 534,
    "start_time": "2023-02-21T16:51:54.965Z"
   },
   {
    "duration": 3303,
    "start_time": "2023-02-21T16:51:55.501Z"
   },
   {
    "duration": 501,
    "start_time": "2023-02-21T16:51:58.807Z"
   },
   {
    "duration": 698,
    "start_time": "2023-02-22T13:32:41.630Z"
   },
   {
    "duration": 14976,
    "start_time": "2023-02-22T13:32:42.330Z"
   },
   {
    "duration": 8004,
    "start_time": "2023-02-22T13:32:57.308Z"
   },
   {
    "duration": 724,
    "start_time": "2023-02-22T13:33:05.314Z"
   },
   {
    "duration": 5198,
    "start_time": "2023-02-22T13:33:06.106Z"
   },
   {
    "duration": 119,
    "start_time": "2023-02-22T13:33:11.306Z"
   },
   {
    "duration": 0,
    "start_time": "2023-02-22T13:33:11.428Z"
   },
   {
    "duration": 0,
    "start_time": "2023-02-22T13:33:11.429Z"
   },
   {
    "duration": 0,
    "start_time": "2023-02-22T13:33:11.431Z"
   },
   {
    "duration": 1,
    "start_time": "2023-02-22T13:33:11.432Z"
   },
   {
    "duration": 0,
    "start_time": "2023-02-22T13:33:11.434Z"
   },
   {
    "duration": 0,
    "start_time": "2023-02-22T13:33:11.435Z"
   },
   {
    "duration": 0,
    "start_time": "2023-02-22T13:33:11.437Z"
   },
   {
    "duration": 0,
    "start_time": "2023-02-22T13:33:11.439Z"
   },
   {
    "duration": 0,
    "start_time": "2023-02-22T13:33:11.440Z"
   },
   {
    "duration": 0,
    "start_time": "2023-02-22T13:33:11.442Z"
   },
   {
    "duration": 0,
    "start_time": "2023-02-22T13:33:11.443Z"
   },
   {
    "duration": 0,
    "start_time": "2023-02-22T13:33:11.444Z"
   },
   {
    "duration": 0,
    "start_time": "2023-02-22T13:33:11.446Z"
   },
   {
    "duration": 0,
    "start_time": "2023-02-22T13:33:11.448Z"
   },
   {
    "duration": 0,
    "start_time": "2023-02-22T13:33:11.449Z"
   },
   {
    "duration": 0,
    "start_time": "2023-02-22T13:33:11.450Z"
   },
   {
    "duration": 0,
    "start_time": "2023-02-22T13:33:11.451Z"
   },
   {
    "duration": 0,
    "start_time": "2023-02-22T13:33:11.453Z"
   },
   {
    "duration": 0,
    "start_time": "2023-02-22T13:33:11.454Z"
   },
   {
    "duration": 2140,
    "start_time": "2023-02-22T13:36:05.400Z"
   },
   {
    "duration": 712,
    "start_time": "2023-02-22T13:48:48.316Z"
   },
   {
    "duration": 15093,
    "start_time": "2023-02-22T13:48:49.030Z"
   },
   {
    "duration": 8684,
    "start_time": "2023-02-22T13:49:04.125Z"
   },
   {
    "duration": 711,
    "start_time": "2023-02-22T13:49:12.811Z"
   },
   {
    "duration": 5891,
    "start_time": "2023-02-22T13:49:13.525Z"
   },
   {
    "duration": 1303,
    "start_time": "2023-02-22T13:49:19.418Z"
   },
   {
    "duration": 820,
    "start_time": "2023-02-22T13:49:20.724Z"
   },
   {
    "duration": 59,
    "start_time": "2023-02-22T13:49:21.545Z"
   },
   {
    "duration": 105,
    "start_time": "2023-02-22T13:49:21.606Z"
   },
   {
    "duration": 797,
    "start_time": "2023-02-22T13:49:21.713Z"
   },
   {
    "duration": 3,
    "start_time": "2023-02-22T13:49:22.512Z"
   },
   {
    "duration": 10,
    "start_time": "2023-02-22T13:49:22.517Z"
   },
   {
    "duration": 1787,
    "start_time": "2023-02-22T13:49:22.528Z"
   },
   {
    "duration": 117,
    "start_time": "2023-02-22T13:49:24.319Z"
   },
   {
    "duration": 9,
    "start_time": "2023-02-22T13:49:24.437Z"
   },
   {
    "duration": 103,
    "start_time": "2023-02-22T13:49:24.447Z"
   },
   {
    "duration": 7,
    "start_time": "2023-02-22T13:49:24.552Z"
   },
   {
    "duration": 10,
    "start_time": "2023-02-22T13:49:24.561Z"
   },
   {
    "duration": 9343,
    "start_time": "2023-02-22T13:49:24.573Z"
   },
   {
    "duration": 314,
    "start_time": "2023-02-22T13:49:33.918Z"
   },
   {
    "duration": 596,
    "start_time": "2023-02-22T13:49:34.234Z"
   },
   {
    "duration": 510,
    "start_time": "2023-02-22T13:49:34.832Z"
   },
   {
    "duration": 2665,
    "start_time": "2023-02-22T13:49:35.344Z"
   },
   {
    "duration": 249,
    "start_time": "2023-02-22T13:49:38.011Z"
   },
   {
    "duration": 119,
    "start_time": "2023-02-22T13:51:53.882Z"
   },
   {
    "duration": 643,
    "start_time": "2023-02-22T13:55:35.789Z"
   },
   {
    "duration": 121,
    "start_time": "2023-02-22T13:56:37.364Z"
   },
   {
    "duration": 757,
    "start_time": "2023-02-22T13:56:53.079Z"
   },
   {
    "duration": 15388,
    "start_time": "2023-02-22T13:56:53.838Z"
   },
   {
    "duration": 8790,
    "start_time": "2023-02-22T13:57:09.228Z"
   },
   {
    "duration": 788,
    "start_time": "2023-02-22T13:57:18.020Z"
   },
   {
    "duration": 6223,
    "start_time": "2023-02-22T13:57:18.810Z"
   },
   {
    "duration": 1400,
    "start_time": "2023-02-22T13:57:25.105Z"
   },
   {
    "duration": 1006,
    "start_time": "2023-02-22T13:57:26.507Z"
   },
   {
    "duration": 3,
    "start_time": "2023-02-22T13:57:27.516Z"
   },
   {
    "duration": 91,
    "start_time": "2023-02-22T13:57:27.520Z"
   },
   {
    "duration": 806,
    "start_time": "2023-02-22T13:57:27.615Z"
   },
   {
    "duration": 5,
    "start_time": "2023-02-22T13:57:28.423Z"
   },
   {
    "duration": 8,
    "start_time": "2023-02-22T13:57:28.430Z"
   },
   {
    "duration": 1787,
    "start_time": "2023-02-22T13:57:28.440Z"
   },
   {
    "duration": 120,
    "start_time": "2023-02-22T13:57:30.229Z"
   },
   {
    "duration": 11,
    "start_time": "2023-02-22T13:57:30.352Z"
   },
   {
    "duration": 65,
    "start_time": "2023-02-22T13:57:30.364Z"
   },
   {
    "duration": 7,
    "start_time": "2023-02-22T13:57:30.430Z"
   },
   {
    "duration": 33,
    "start_time": "2023-02-22T13:57:30.439Z"
   },
   {
    "duration": 10061,
    "start_time": "2023-02-22T13:57:30.474Z"
   },
   {
    "duration": 478,
    "start_time": "2023-02-22T13:57:40.538Z"
   },
   {
    "duration": 711,
    "start_time": "2023-02-22T13:57:41.018Z"
   },
   {
    "duration": 489,
    "start_time": "2023-02-22T13:57:41.730Z"
   },
   {
    "duration": 3097,
    "start_time": "2023-02-22T13:57:42.221Z"
   },
   {
    "duration": 1238,
    "start_time": "2023-02-22T13:57:45.321Z"
   },
   {
    "duration": 417,
    "start_time": "2023-02-22T13:58:44.918Z"
   },
   {
    "duration": 340,
    "start_time": "2023-02-22T14:01:03.692Z"
   },
   {
    "duration": 738,
    "start_time": "2023-02-22T14:01:59.815Z"
   },
   {
    "duration": 14576,
    "start_time": "2023-02-22T14:02:00.555Z"
   },
   {
    "duration": 8487,
    "start_time": "2023-02-22T14:02:15.133Z"
   },
   {
    "duration": 790,
    "start_time": "2023-02-22T14:02:23.623Z"
   },
   {
    "duration": 5889,
    "start_time": "2023-02-22T14:02:24.415Z"
   },
   {
    "duration": 1309,
    "start_time": "2023-02-22T14:02:30.306Z"
   },
   {
    "duration": 816,
    "start_time": "2023-02-22T14:02:31.616Z"
   },
   {
    "duration": 2,
    "start_time": "2023-02-22T14:02:32.433Z"
   },
   {
    "duration": 94,
    "start_time": "2023-02-22T14:02:32.437Z"
   },
   {
    "duration": 773,
    "start_time": "2023-02-22T14:02:32.533Z"
   },
   {
    "duration": 3,
    "start_time": "2023-02-22T14:02:33.308Z"
   },
   {
    "duration": 14,
    "start_time": "2023-02-22T14:02:33.312Z"
   },
   {
    "duration": 2011,
    "start_time": "2023-02-22T14:02:33.327Z"
   },
   {
    "duration": 109,
    "start_time": "2023-02-22T14:02:35.404Z"
   },
   {
    "duration": 11,
    "start_time": "2023-02-22T14:02:35.515Z"
   },
   {
    "duration": 85,
    "start_time": "2023-02-22T14:02:35.529Z"
   },
   {
    "duration": 8,
    "start_time": "2023-02-22T14:02:35.616Z"
   },
   {
    "duration": 6,
    "start_time": "2023-02-22T14:02:35.626Z"
   },
   {
    "duration": 10310,
    "start_time": "2023-02-22T14:02:35.634Z"
   },
   {
    "duration": 321,
    "start_time": "2023-02-22T14:02:46.003Z"
   },
   {
    "duration": 505,
    "start_time": "2023-02-22T14:02:46.325Z"
   },
   {
    "duration": 479,
    "start_time": "2023-02-22T14:02:46.832Z"
   },
   {
    "duration": 2912,
    "start_time": "2023-02-22T14:02:47.312Z"
   },
   {
    "duration": 1140,
    "start_time": "2023-02-22T14:02:50.225Z"
   },
   {
    "duration": 358,
    "start_time": "2023-02-22T14:03:00.063Z"
   }
  ],
  "colab": {
   "name": "PySparkSprint.ipynb",
   "provenance": []
  },
  "kernelspec": {
   "display_name": "Python 3 (ipykernel)",
   "language": "python",
   "name": "python3"
  },
  "language_info": {
   "codemirror_mode": {
    "name": "ipython",
    "version": 3
   },
   "file_extension": ".py",
   "mimetype": "text/x-python",
   "name": "python",
   "nbconvert_exporter": "python",
   "pygments_lexer": "ipython3",
   "version": "3.9.18"
  },
  "toc": {
   "base_numbering": 1,
   "nav_menu": {},
   "number_sections": true,
   "sideBar": true,
   "skip_h1_title": true,
   "title_cell": "Table of Contents",
   "title_sidebar": "Contents",
   "toc_cell": false,
   "toc_position": {},
   "toc_section_display": true,
   "toc_window_display": true
  },
  "varInspector": {
   "cols": {
    "lenName": 16,
    "lenType": 16,
    "lenVar": 40
   },
   "kernels_config": {
    "python": {
     "delete_cmd_postfix": "",
     "delete_cmd_prefix": "del ",
     "library": "var_list.py",
     "varRefreshCmd": "print(var_dic_list())"
    },
    "r": {
     "delete_cmd_postfix": ") ",
     "delete_cmd_prefix": "rm(",
     "library": "var_list.r",
     "varRefreshCmd": "cat(var_dic_list()) "
    }
   },
   "types_to_exclude": [
    "module",
    "function",
    "builtin_function_or_method",
    "instance",
    "_Feature"
   ],
   "window_display": false
  }
 },
 "nbformat": 4,
 "nbformat_minor": 5
}
